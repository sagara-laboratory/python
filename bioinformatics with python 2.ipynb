{
 "cells": [
  {
   "cell_type": "code",
   "execution_count": 1,
   "metadata": {},
   "outputs": [
    {
     "data": {
      "text/plain": [
       "'ACCGAAGCT'"
      ]
     },
     "execution_count": 1,
     "metadata": {},
     "output_type": "execute_result"
    }
   ],
   "source": [
    "text = \"ACCGA CCGAA CGAAG GAAGC AAGCT\"\n",
    "text = text.split()\n",
    "\n",
    "def SolveStringSpell(text):\n",
    "    pattern = \"\"\n",
    "    for pos, kmer in enumerate(text):\n",
    "        if pos == 0:\n",
    "            pattern += kmer\n",
    "        else:\n",
    "            pattern += kmer[-1]\n",
    "    return pattern\n",
    "SolveStringSpell(text)"
   ]
  },
  {
   "cell_type": "code",
   "execution_count": 2,
   "metadata": {},
   "outputs": [
    {
     "data": {
      "text/plain": [
       "{'GCATG': ['CATGC'],\n",
       " 'CATGC': ['ATGCG'],\n",
       " 'AGGCA': ['GGCAT', 'GGCAC'],\n",
       " 'GGCAT': ['GCATG']}"
      ]
     },
     "execution_count": 2,
     "metadata": {},
     "output_type": "execute_result"
    }
   ],
   "source": [
    "text = \"ATGCG GCATG CATGC AGGCA GGCAT GGCAC\"\n",
    "text = text.split()\n",
    "\n",
    "def Prefix(pattern):\n",
    "    return pattern[:-1]\n",
    "def Suffix(pattern):\n",
    "    return pattern[1:]\n",
    "\n",
    "def OverLap(text):\n",
    "    OverLap = {}\n",
    "    for pattern in text:\n",
    "        for kmer in text:\n",
    "            if pattern == kmer:\n",
    "                continue\n",
    "            if Suffix(pattern) == Prefix(kmer):\n",
    "                if pattern in OverLap:\n",
    "                    OverLap[pattern].append(kmer)\n",
    "                else:\n",
    "                    OverLap[pattern] = [kmer]\n",
    "    return OverLap\n",
    "OverLap(text)"
   ]
  },
  {
   "cell_type": "code",
   "execution_count": 3,
   "metadata": {},
   "outputs": [
    {
     "data": {
      "text/plain": [
       "{'ACC': ['CCA'],\n",
       " 'CTT': ['TTA'],\n",
       " 'GCT': ['CTT'],\n",
       " 'GGC': ['GCT'],\n",
       " 'TAC': ['ACC'],\n",
       " 'TTA': ['TAC']}"
      ]
     },
     "execution_count": 3,
     "metadata": {},
     "output_type": "execute_result"
    }
   ],
   "source": [
    "data = \"CTTA ACCA TACC GGCT GCTT TTAC\"\n",
    "data = data.split()\n",
    "\n",
    "def sort_dict(data):\n",
    "    sort_data = sorted(data.items())\n",
    "    submit = {}\n",
    "    for i in range(len(sort_data)):\n",
    "        submit[sort_data[i][0]] = sort_data[i][1]\n",
    "    return submit\n",
    "\n",
    "def Bruijin(text):\n",
    "    Bruijn_Graph = {}\n",
    "    for pattern in text:\n",
    "        kmer = pattern[:-1]\n",
    "        if kmer in Bruijn_Graph:\n",
    "            Bruijn_Graph[kmer].append(pattern[1:])\n",
    "        else:\n",
    "            Bruijn_Graph[kmer] = [pattern[1:]]\n",
    "    Bruijn_Graph = sort_dict(Bruijn_Graph)\n",
    "    return Bruijn_Graph\n",
    "graph = Bruijin(data)\n",
    "graph"
   ]
  },
  {
   "cell_type": "code",
   "execution_count": 4,
   "metadata": {},
   "outputs": [
    {
     "data": {
      "text/plain": [
       "('GGC', 'CCA')"
      ]
     },
     "execution_count": 4,
     "metadata": {},
     "output_type": "execute_result"
    }
   ],
   "source": [
    "def Check_Euler_Path(graph):\n",
    "    import copy\n",
    "    from collections import Counter\n",
    "    in_g = {}\n",
    "    out_g = {}\n",
    "    start_node = None\n",
    "    end_node = None\n",
    "    for key, values in graph.items():\n",
    "        out_g[key] = len(values)\n",
    "        d = Counter(values)\n",
    "        for k, v in d.items():\n",
    "            if k in in_g:\n",
    "                in_g[k] += 1\n",
    "            else:\n",
    "                in_g[k] = 1        \n",
    "    keys = set(list(in_g.keys()) + list(out_g.keys()))\n",
    "    for k in keys:\n",
    "        if (k in out_g) and (k in in_g):\n",
    "            if in_g[k] != out_g[k]:\n",
    "                if out_g[k] - in_g[k] == 1:\n",
    "                    start_node = k\n",
    "                elif in_g[k] - out_g[k] == 1:\n",
    "                    end_node = k\n",
    "                else:\n",
    "                    print(\"False\")\n",
    "        elif (k not in out_g) and (k in in_g):\n",
    "            end_node = k\n",
    "        elif (k in out_g) and (k not in in_g):\n",
    "            start_node = k\n",
    "        else:\n",
    "            print(\"debug\")\n",
    "    return start_node, end_node\n",
    "start_node, end_node = Check_Euler_Path(graph)\n",
    "start_node, end_node"
   ]
  },
  {
   "cell_type": "code",
   "execution_count": 5,
   "metadata": {},
   "outputs": [
    {
     "data": {
      "text/plain": [
       "['TTA', 'TAC', 'ACC', 'CCA', 'GGC', 'GCT', 'CTT']"
      ]
     },
     "execution_count": 5,
     "metadata": {},
     "output_type": "execute_result"
    }
   ],
   "source": [
    "def Euler_Path(graph, start_node, end_node):\n",
    "    import copy\n",
    "    import random\n",
    "    from collections import Counter\n",
    "    \n",
    "    if start_node != None and end_node != None:\n",
    "        if end_node in graph:\n",
    "            graph[end_node].append(start_node)\n",
    "        else:\n",
    "            graph[end_node] = [start_node]\n",
    "        \n",
    "    original_graph = copy.deepcopy(graph)\n",
    "    stuck = []\n",
    "    circuit = []\n",
    "    location = random.choice(list(graph.keys()))\n",
    "    while True:\n",
    "        edge_list = graph[location]\n",
    "        if len(edge_list) == 0:\n",
    "            v = stuck.pop()\n",
    "            circuit.append(str(v))\n",
    "            location = v\n",
    "        else:\n",
    "            edge = edge_list[0]\n",
    "            graph[location].pop(0)\n",
    "            stuck.append(location)\n",
    "            location = edge\n",
    "\n",
    "        if len(stuck) == 0:\n",
    "            rest_of_edges = sum(len(v) for v in graph.values())\n",
    "            if rest_of_edges == 0:\n",
    "                circuit.reverse()\n",
    "                return circuit\n",
    "            else:\n",
    "                graph = copy.deepcopy(original_graph)\n",
    "                location = random.choice(list(graph.keys()))\n",
    "                stuck = []\n",
    "                circuit = []\n",
    "euler_path = Euler_Path(graph, start_node, end_node)\n",
    "euler_path"
   ]
  },
  {
   "cell_type": "code",
   "execution_count": 6,
   "metadata": {},
   "outputs": [
    {
     "data": {
      "text/plain": [
       "['GGC', 'GCT', 'CTT', 'TTA', 'TAC', 'ACC', 'CCA']"
      ]
     },
     "execution_count": 6,
     "metadata": {},
     "output_type": "execute_result"
    }
   ],
   "source": [
    "def EulerOrdering(result, start_node, end_node):\n",
    "    new_list = result\n",
    "    for i in range(len(result)):\n",
    "        if result[i] == str(end_node) and result[i+1] == str(start_node):\n",
    "            new_list = result[i+1:] + result[:i+1]\n",
    "    return new_list\n",
    "euler_orderd = EulerOrdering(euler_path, start_node, end_node)\n",
    "euler_orderd"
   ]
  },
  {
   "cell_type": "code",
   "execution_count": 7,
   "metadata": {},
   "outputs": [
    {
     "data": {
      "text/plain": [
       "'GGCTTACCA'"
      ]
     },
     "execution_count": 7,
     "metadata": {},
     "output_type": "execute_result"
    }
   ],
   "source": [
    "result = SolveStringSpell(euler_orderd)\n",
    "result"
   ]
  },
  {
   "cell_type": "code",
   "execution_count": 8,
   "metadata": {},
   "outputs": [
    {
     "data": {
      "text/plain": [
       "{'CGT|ATG': ['GTG|TGT'],\n",
       " 'GAG|TTG': ['AGA|TGA'],\n",
       " 'GGT|GAG': ['GTC|AGA'],\n",
       " 'GTC|AGA': ['TCG|GAT'],\n",
       " 'GTG|GTG': ['TGG|TGA'],\n",
       " 'GTG|TGT': ['TGA|GTT'],\n",
       " 'TCG|GAT': ['CGT|ATG'],\n",
       " 'TGA|GTT': ['GAG|TTG'],\n",
       " 'TGG|TGA': ['GGT|GAG']}"
      ]
     },
     "execution_count": 8,
     "metadata": {},
     "output_type": "execute_result"
    }
   ],
   "source": [
    "sample_pair_data = \"GAGA|TTGA TCGT|GATG CGTG|ATGT TGGT|TGAG GTGA|TGTT GTGG|GTGA TGAG|GTTG GGTC|GAGA GTCG|AGAT\".split()\n",
    "input_data = []\n",
    "for pair_data in sample_pair_data:\n",
    "    input_data.append(pair_data.split(\"|\"))\n",
    "\n",
    "def Paired_Bruijin(input_data):\n",
    "    Bruijin_Graph = {}\n",
    "    for pattern in input_data:\n",
    "        left_key = pattern[0][:-1]\n",
    "        right_key = pattern[1][:-1]\n",
    "        left_value = pattern[0][1:]\n",
    "        right_value = pattern[1][1:]\n",
    "        keys = left_key + \"|\" + right_key\n",
    "        values = left_value + \"|\" + right_value\n",
    "        if keys in Bruijin_Graph:\n",
    "            Bruijin_Graph[keys].append(values)\n",
    "        else:\n",
    "            Bruijin_Graph[keys] = [values]\n",
    "    Bruijin_Graph = sort_dict(Bruijin_Graph)\n",
    "    \n",
    "    return Bruijin_Graph\n",
    "graph = Paired_Bruijin(input_data)\n",
    "graph"
   ]
  },
  {
   "cell_type": "code",
   "execution_count": 9,
   "metadata": {},
   "outputs": [
    {
     "data": {
      "text/plain": [
       "{'CGT|ATG': ['GTG|TGT'],\n",
       " 'GAG|TTG': ['AGA|TGA'],\n",
       " 'GGT|GAG': ['GTC|AGA'],\n",
       " 'GTC|AGA': ['TCG|GAT'],\n",
       " 'GTG|GTG': ['TGG|TGA'],\n",
       " 'GTG|TGT': ['TGA|GTT'],\n",
       " 'TCG|GAT': ['CGT|ATG'],\n",
       " 'TGA|GTT': ['GAG|TTG'],\n",
       " 'TGG|TGA': ['GGT|GAG']}"
      ]
     },
     "execution_count": 9,
     "metadata": {},
     "output_type": "execute_result"
    }
   ],
   "source": [
    "sample_pair_data = \"GAGA|TTGA TCGT|GATG CGTG|ATGT TGGT|TGAG GTGA|TGTT GTGG|GTGA TGAG|GTTG GGTC|GAGA GTCG|AGAT\".split()\n",
    "input_data = []\n",
    "for pair_data in sample_pair_data:\n",
    "    input_data.append(pair_data.split(\"|\"))\n",
    "\n",
    "def Paired_Bruijin(input_data):\n",
    "    Bruijin_Graph = {}\n",
    "    for pattern in input_data:\n",
    "        left_key = pattern[0][:-1]\n",
    "        right_key = pattern[1][:-1]\n",
    "        left_value = pattern[0][1:]\n",
    "        right_value = pattern[1][1:]\n",
    "        keys = left_key + \"|\" + right_key\n",
    "        values = left_value + \"|\" + right_value\n",
    "        if keys in Bruijin_Graph:\n",
    "            Bruijin_Graph[keys].append(values)\n",
    "        else:\n",
    "            Bruijin_Graph[keys] = [values]\n",
    "    Bruijin_Graph = sort_dict(Bruijin_Graph)\n",
    "    \n",
    "    return Bruijin_Graph\n",
    "graph = Paired_Bruijin(input_data)\n",
    "graph"
   ]
  },
  {
   "cell_type": "code",
   "execution_count": 10,
   "metadata": {},
   "outputs": [
    {
     "data": {
      "text/plain": [
       "('GTG|GTG', 'AGA|TGA')"
      ]
     },
     "execution_count": 10,
     "metadata": {},
     "output_type": "execute_result"
    }
   ],
   "source": [
    "start_node, end_node = Check_Euler_Path(graph)\n",
    "start_node, end_node"
   ]
  },
  {
   "cell_type": "code",
   "execution_count": 11,
   "metadata": {},
   "outputs": [
    {
     "data": {
      "text/plain": [
       "['GTC|AGA',\n",
       " 'TCG|GAT',\n",
       " 'CGT|ATG',\n",
       " 'GTG|TGT',\n",
       " 'TGA|GTT',\n",
       " 'GAG|TTG',\n",
       " 'AGA|TGA',\n",
       " 'GTG|GTG',\n",
       " 'TGG|TGA',\n",
       " 'GGT|GAG']"
      ]
     },
     "execution_count": 11,
     "metadata": {},
     "output_type": "execute_result"
    }
   ],
   "source": [
    "euler_path = Euler_Path(graph, start_node, end_node)\n",
    "euler_path"
   ]
  },
  {
   "cell_type": "code",
   "execution_count": 12,
   "metadata": {},
   "outputs": [
    {
     "data": {
      "text/plain": [
       "['GTG|GTG',\n",
       " 'TGG|TGA',\n",
       " 'GGT|GAG',\n",
       " 'GTC|AGA',\n",
       " 'TCG|GAT',\n",
       " 'CGT|ATG',\n",
       " 'GTG|TGT',\n",
       " 'TGA|GTT',\n",
       " 'GAG|TTG',\n",
       " 'AGA|TGA']"
      ]
     },
     "execution_count": 12,
     "metadata": {},
     "output_type": "execute_result"
    }
   ],
   "source": [
    "euler_orderd = EulerOrdering(euler_path, start_node, end_node)\n",
    "euler_orderd"
   ]
  },
  {
   "cell_type": "code",
   "execution_count": 13,
   "metadata": {},
   "outputs": [
    {
     "data": {
      "text/plain": [
       "[['GTG', 'GTG'],\n",
       " ['TGG', 'TGA'],\n",
       " ['GGT', 'GAG'],\n",
       " ['GTC', 'AGA'],\n",
       " ['TCG', 'GAT'],\n",
       " ['CGT', 'ATG'],\n",
       " ['GTG', 'TGT'],\n",
       " ['TGA', 'GTT'],\n",
       " ['GAG', 'TTG'],\n",
       " ['AGA', 'TGA']]"
      ]
     },
     "execution_count": 13,
     "metadata": {},
     "output_type": "execute_result"
    }
   ],
   "source": [
    "def Convert(circuit):\n",
    "    strings = []\n",
    "    for c in circuit:\n",
    "        strings.append(c.split(\"|\"))\n",
    "    return strings\n",
    "euler_converted = Convert(euler_orderd)\n",
    "euler_converted"
   ]
  },
  {
   "cell_type": "code",
   "execution_count": 14,
   "metadata": {},
   "outputs": [
    {
     "data": {
      "text/plain": [
       "'GTGGTCGTGAGATGTTGA'"
      ]
     },
     "execution_count": 14,
     "metadata": {},
     "output_type": "execute_result"
    }
   ],
   "source": [
    "# kmer\n",
    "k = 4\n",
    "# gap\n",
    "d = 2\n",
    "\n",
    "def StringSpelledByGappedPatterns(text, k, d, l):\n",
    "    n = len(text)\n",
    "    read_1 = \"\"\n",
    "    read_2 = \"\"\n",
    "    for i in range(n - 1):\n",
    "        read_1 += text[i][0][0]\n",
    "        read_2 += text[i][1][0]\n",
    "    read_1 += text[-1][0]\n",
    "    read_2 += text[-1][1]\n",
    "\n",
    "    str_length = k + d + k + l - 1\n",
    "    read_length = len(read_1)\n",
    "    unmatch_length = str_length - read_length\n",
    "    if read_1[unmatch_length:] == read_2[:read_length-unmatch_length]:\n",
    "        result = read_1 + read_2[read_length-unmatch_length:]\n",
    "        return result\n",
    "    else:\n",
    "        return \"UnMatch!\"\n",
    "result = StringSpelledByGappedPatterns(euler_converted, k, d, len(input_data))\n",
    "result"
   ]
  },
  {
   "cell_type": "code",
   "execution_count": null,
   "metadata": {},
   "outputs": [],
   "source": []
  }
 ],
 "metadata": {
  "kernelspec": {
   "display_name": "Python 3",
   "language": "python",
   "name": "python3"
  },
  "language_info": {
   "codemirror_mode": {
    "name": "ipython",
    "version": 3
   },
   "file_extension": ".py",
   "mimetype": "text/x-python",
   "name": "python",
   "nbconvert_exporter": "python",
   "pygments_lexer": "ipython3",
   "version": "3.7.6"
  }
 },
 "nbformat": 4,
 "nbformat_minor": 4
}
