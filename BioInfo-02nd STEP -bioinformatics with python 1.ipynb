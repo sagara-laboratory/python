{
 "cells": [
  {
   "cell_type": "code",
   "execution_count": 1,
   "metadata": {},
   "outputs": [
    {
     "data": {
      "text/plain": [
       "[1, 3, 9]"
      ]
     },
     "execution_count": 1,
     "metadata": {},
     "output_type": "execute_result"
    }
   ],
   "source": [
    "# サンプルデータ\n",
    "sample_genome = \"GATATATGCATATACTT\"\n",
    "sample_pattern = \"ATAT\"\n",
    "\n",
    "# パターンマッチ関数\n",
    "def PatternMatch(text, pattern):\n",
    "    n = len(text)\n",
    "    k = len(pattern)\n",
    "    positions = []\n",
    "    for i in range(n-k+1):\n",
    "        ex = text[i:i+k]\n",
    "        if ex == pattern:\n",
    "            positions.append(i)\n",
    "    return positions\n",
    "PatternMatch(sample_genome, sample_pattern)"
   ]
  },
  {
   "cell_type": "code",
   "execution_count": 2,
   "metadata": {},
   "outputs": [
    {
     "data": {
      "text/plain": [
       "3"
      ]
     },
     "execution_count": 2,
     "metadata": {},
     "output_type": "execute_result"
    }
   ],
   "source": [
    "# サンプルデータ\n",
    "p = \"GGGCCGTTGGT\"\n",
    "q = \"GGACCGTTGAC\"\n",
    "\n",
    "# Hamming Distance関数\n",
    "def HammingDistance(p, q):\n",
    "    hamming_distance = 0\n",
    "    for i in range(len(p)):\n",
    "        if p[i] != q[i]:\n",
    "            hamming_distance += 1\n",
    "    return hamming_distance\n",
    "HammingDistance(p, q)"
   ]
  },
  {
   "cell_type": "code",
   "execution_count": 3,
   "metadata": {},
   "outputs": [
    {
     "data": {
      "text/plain": [
       "[6, 7, 26, 27]"
      ]
     },
     "execution_count": 3,
     "metadata": {},
     "output_type": "execute_result"
    }
   ],
   "source": [
    "# サンプルデータ\n",
    "text = \"CGCCCGAATCCAGAACGCATTCCCATATTTCGGGACCACTGGCCTCCACGGTACGGACGTCAATCAAAT\"\n",
    "# パターン\n",
    "pattern = \"ATTCTGGA\"\n",
    "# 一致しないことを許容する文字数\n",
    "d = 3\n",
    "\n",
    "def ApproximatePatternMatching(text, pattern, d):\n",
    "    k = len(pattern)\n",
    "    n = len(text)\n",
    "    positions = []\n",
    "    for i in range(n - k + 1):\n",
    "        ex = text[i:i+k]\n",
    "        h_distance = HammingDistance(ex, pattern)\n",
    "        if h_distance <= d:\n",
    "            positions.append(i)\n",
    "    return positions\n",
    "ApproximatePatternMatching(text, pattern ,d)"
   ]
  },
  {
   "cell_type": "code",
   "execution_count": 4,
   "metadata": {},
   "outputs": [
    {
     "data": {
      "text/plain": [
       "('GAC', 2)"
      ]
     },
     "execution_count": 4,
     "metadata": {},
     "output_type": "execute_result"
    }
   ],
   "source": [
    "k = 3\n",
    "Dna = \"AAATTGACGCAT GACGACCACGTT CGTCAGCGCCTG GCTGAGCACCGG AGTTCGGGACAG\"\n",
    "Dna = Dna.split()\n",
    "\n",
    "def median_string(DNAs,k):\n",
    "    kmerlist = []\n",
    "    for string in DNAs:\n",
    "        for i in range(0,len(string)-k+1):\n",
    "            pattern = string[i:i+k]\n",
    "            if pattern not in kmerlist:\n",
    "                kmerlist.append(pattern)\n",
    "    for kmer in kmerlist:\n",
    "        score = 0\n",
    "        for string in DNAs:\n",
    "            min_distance=1000\n",
    "            for i in range(0,len(string)-k+1):\n",
    "                pattern = string[i:i+k]\n",
    "                distance = HammingDistance(kmer,pattern)\n",
    "                if min_distance >= distance:\n",
    "                    min_distance = distance\n",
    "            score += min_distance\n",
    "            \n",
    "        if kmer == kmerlist[0]:\n",
    "            bestscore = score\n",
    "            median = kmer\n",
    "        if bestscore >= score:\n",
    "            bestscore = score\n",
    "            median = kmer\n",
    "    return median,bestscore\n",
    "median_string(Dna, 3)"
   ]
  },
  {
   "cell_type": "code",
   "execution_count": 5,
   "metadata": {},
   "outputs": [
    {
     "data": {
      "text/plain": [
       "{'A': [0.22, 0.56, 0.33, 0.22, 0.33, 0.33, 0.22, 0.56, 0.11, 0.11, 0.22, 0.33],\n",
       " 'C': [0.44, 0.11, 0.33, 0.11, 0.11, 0.22, 0.33, 0.11, 0.11, 0.33, 0.44, 0.33],\n",
       " 'G': [0.22, 0.22, 0.22, 0.44, 0.22, 0.11, 0.22, 0.11, 0.33, 0.22, 0.22, 0.22],\n",
       " 'T': [0.11, 0.11, 0.11, 0.22, 0.33, 0.33, 0.22, 0.22, 0.44, 0.33, 0.11, 0.11]}"
      ]
     },
     "execution_count": 5,
     "metadata": {},
     "output_type": "execute_result"
    }
   ],
   "source": [
    "Dna = \"GGCGTTCAGGCA AAGAATCAGTCA CAAGGAGTTCGC CACGTCAATCAC CAATAATATTCG\"\n",
    "Dna = Dna.split()\n",
    "\n",
    "\n",
    "def CountWithPseudocounts(Motifs):\n",
    "    k = len(Motifs[0])\n",
    "    count = {'A':[1]*k,'C':[1]*k,'G':[1]*k,'T':[1]*k}\n",
    "\n",
    "    t = len(Motifs)\n",
    "    for i in range(t):\n",
    "        for j in range(k):\n",
    "            count[Motifs[i][j]][j] += 1\n",
    "    return count\n",
    "\n",
    "def ProfileWithPseudocounts(Motifs):\n",
    "    t = len(Motifs)\n",
    "    k = len(Motifs[0])\n",
    "    profile = CountWithPseudocounts(Motifs)\n",
    "    \n",
    "    for i in range(k):\n",
    "        su=0\n",
    "        for symbol in \"ACGT\":\n",
    "            su += profile[symbol][i]\n",
    "        for symbol in \"ACGT\":\n",
    "            profile[symbol][i] = round(profile[symbol][i]/su, 2)\n",
    "            \n",
    "    return profile\n",
    "ProfileWithPseudocounts(Dna)"
   ]
  },
  {
   "cell_type": "code",
   "execution_count": 6,
   "metadata": {},
   "outputs": [
    {
     "data": {
      "text/plain": [
       "['TTC', 'ATC', 'TTC', 'ATC', 'TTC']"
      ]
     },
     "execution_count": 6,
     "metadata": {},
     "output_type": "execute_result"
    }
   ],
   "source": [
    "k = 3\n",
    "t = 5\n",
    "Dna = \"GGCGTTCAGGCA AAGAATCAGTCA CAAGGAGTTCGC CACGTCAATCAC CAATAATATTCG\"\n",
    "Dna = Dna.split()\n",
    "\n",
    "def GreedyMotifSearchWithPseudocounts(Dna, k, t):\n",
    "    BestMotifs = []\n",
    "    for i in range(0, t):\n",
    "        BestMotifs.append(Dna[i][0:k])\n",
    "    n = len(Dna[0])\n",
    "    for m in range(n-k+1):\n",
    "        Motifs = []\n",
    "        Motifs.append(Dna[0][m:m+k])\n",
    "        for j in range(1, t):\n",
    "            P = ProfileWithPseudocounts(Motifs[0:j])\n",
    "            Motifs.append(ProfileMostProbablePattern(Dna[j], k, P))\n",
    "        if Score(Motifs) < Score(BestMotifs):\n",
    "            BestMotifs = Motifs\n",
    "    return BestMotifs\n",
    "\n",
    "def CountWithPseudocounts(Motifs):\n",
    "    k = len(Motifs[0])\n",
    "    count = {'A':[1]*k,'C':[1]*k,'G':[1]*k,'T':[1]*k}\n",
    "\n",
    "    t = len(Motifs)\n",
    "    for i in range(t):\n",
    "        for j in range(k):\n",
    "            count[Motifs[i][j]][j] += 1\n",
    "    return count\n",
    "\n",
    "def ProfileWithPseudocounts(Motifs):\n",
    "    t = len(Motifs)\n",
    "    k = len(Motifs[0])\n",
    "    profile = CountWithPseudocounts(Motifs)\n",
    "    \n",
    "    for i in range(k):\n",
    "        su=0\n",
    "        for symbol in \"ACGT\":\n",
    "            su += profile[symbol][i]\n",
    "        for symbol in \"ACGT\":\n",
    "            profile[symbol][i] = profile[symbol][i]/su\n",
    "            \n",
    "    return profile\n",
    "\n",
    "def Pr(Text, Profile):\n",
    "    # insert your code here\n",
    "    count = 1\n",
    "    for i, key in enumerate(Text):\n",
    "        count *= Profile.get(key)[i]\n",
    "    return count\n",
    "\n",
    "def Score(Motifs):\n",
    "    consensus = Consensus(Motifs)\n",
    "    count = 0\n",
    "    for motif in Motifs:\n",
    "        for idx in range(len(motif)):\n",
    "            if motif[idx] != consensus[idx]:\n",
    "                count += 1\n",
    "    return count\n",
    "\n",
    "def ProfileMostProbablePattern(Text, k, Profile):\n",
    "    most_prob = Text[0:k] \n",
    "    p_max = Pr(Text[0:k], Profile)\n",
    "    for i in range(1, len(Text) - k + 1):\n",
    "         if Pr(Text[i:i+k], Profile) > p_max:\n",
    "                p_max = Pr(Text[i:i+k], Profile)\n",
    "                most_prob = Text[i:i+k]        \n",
    "    return most_prob\n",
    "\n",
    "def Consensus(Motifs):\n",
    "    k = len(Motifs[0])\n",
    "    count = CountWithPseudocounts(Motifs)\n",
    "    consensus = \"\"\n",
    "    for j in range(k):\n",
    "        m = 0\n",
    "        frequentSymbol = \"\"\n",
    "        for symbol in \"ACGT\":\n",
    "            if count[symbol][j] > m:\n",
    "                m = count[symbol][j]\n",
    "                frequentSymbol = symbol\n",
    "        consensus += frequentSymbol\n",
    "        \n",
    "    return consensus\n",
    "GreedyMotifSearchWithPseudocounts(Dna, k, t)"
   ]
  },
  {
   "cell_type": "code",
   "execution_count": 7,
   "metadata": {},
   "outputs": [
    {
     "data": {
      "text/plain": [
       "['AACGGCCA', 'AAGTGCCA', 'TAGTACCG', 'AAGTTTCA', 'ACGTGCAA']"
      ]
     },
     "execution_count": 7,
     "metadata": {},
     "output_type": "execute_result"
    }
   ],
   "source": [
    "import random \n",
    "Dna = \\\n",
    "\"CGCCCCTCTCGGGGGTGTTCAGTAAACGGCCA \\\n",
    "GGGCGAGGTATGTGTAAGTGCCAAGGTGCCAG \\\n",
    "TAGTACCGAGACCGAAAGAAGTATACAGGCGT \\\n",
    "TAGATCAAGTTTCAGGTGCACGTCGGTGAACC \\\n",
    "AATCCACCAGCTCCACGTGCAATGTTGGCCTA\"\n",
    "Dna = Dna.split()\n",
    "k = 8\n",
    "t = 5\n",
    "\n",
    "def ProfileProbMotif(Dna, k, profile):\n",
    "    profile_motif = []\n",
    "    for i in range(len(Dna)):\n",
    "        profile_motif.append(ProfileMostProbablePattern(Dna[i], k, profile))\n",
    "    return profile_motif\n",
    "\n",
    "def RandomMotif(Dna, k, t):\n",
    "    Motif = []\n",
    "    Upper = len(Dna[0]) - k\n",
    "    for i in range(t):\n",
    "        pos = random.randint(0, Upper)\n",
    "        Motif.append(Dna[i][pos:pos+k])\n",
    "    return Motif\n",
    "\n",
    "def RandomizedMotifsSearch(Dna, k, t):\n",
    "    M = RandomMotif(Dna, k, t)\n",
    "    BestMotifs = M\n",
    "    while True:\n",
    "        current_profile = ProfileWithPseudocounts(M)\n",
    "        M = ProfileProbMotif(Dna, k, current_profile)\n",
    "        if Score(M) < Score(BestMotifs):\n",
    "            BestMotifs = M\n",
    "        else:\n",
    "            return BestMotifs\n",
    "        \n",
    "def RepeatedRandomizedMotifSearch(Dna, k, t):\n",
    "    BestScore = float(\"inf\")\n",
    "    BestMotifs = []\n",
    "    for i in range(1000):\n",
    "        Motif = RandomizedMotifsSearch(Dna, k, t)\n",
    "        current_score = Score(Motif)\n",
    "        if current_score < BestScore:\n",
    "            BestScore = current_score\n",
    "            BestMotifs = Motif\n",
    "    return BestMotifs\n",
    "RepeatedRandomizedMotifSearch(Dna, k, t)"
   ]
  },
  {
   "cell_type": "code",
   "execution_count": null,
   "metadata": {},
   "outputs": [],
   "source": []
  }
 ],
 "metadata": {
  "kernelspec": {
   "display_name": "Python 3",
   "language": "python",
   "name": "python3"
  },
  "language_info": {
   "codemirror_mode": {
    "name": "ipython",
    "version": 3
   },
   "file_extension": ".py",
   "mimetype": "text/x-python",
   "name": "python",
   "nbconvert_exporter": "python",
   "pygments_lexer": "ipython3",
   "version": "3.7.6"
  }
 },
 "nbformat": 4,
 "nbformat_minor": 4
}
