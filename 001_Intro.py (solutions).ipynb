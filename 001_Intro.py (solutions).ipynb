{
 "cells": [
  {
   "cell_type": "code",
   "execution_count": 1,
   "id": "fcce2d0c",
   "metadata": {},
   "outputs": [],
   "source": [
    "# Welcome! This is a Python program file\n",
    "\n",
    "# The lines that start with a hash (#) are comments\n",
    "# They are for you to read and are ignored by Python\n",
    "\n",
    "# When you see 'GO!', save and run the file to see the output\n",
    "# When you see a line starting with # follow the instructions\n",
    "# Some lines are python code with a # in front\n",
    "# This means they're commented out - remove the # to uncomment\n",
    "# Do one challenge at a time, save and run after each one!"
   ]
  },
  {
   "cell_type": "code",
   "execution_count": 2,
   "id": "1175b014",
   "metadata": {},
   "outputs": [
    {
     "name": "stdout",
     "output_type": "stream",
     "text": [
      "Hello world\n"
     ]
    }
   ],
   "source": [
    "# 1. This is the print statement\n",
    "\n",
    "print(\"Hello world\")\n",
    "\n",
    "# GO!"
   ]
  },
  {
   "cell_type": "code",
   "execution_count": 3,
   "id": "7a3b652a",
   "metadata": {},
   "outputs": [
    {
     "name": "stdout",
     "output_type": "stream",
     "text": [
      "Hello world\n",
      "Hello beautiful world\n"
     ]
    }
   ],
   "source": [
    "# 2. This is a variable\n",
    "\n",
    "print(\"Hello world\")\n",
    "\n",
    "# Add a line below to print this variable\n",
    "\n",
    "print(\"Hello beautiful world\")\n",
    "\n",
    "# GO!"
   ]
  },
  {
   "cell_type": "code",
   "execution_count": 4,
   "id": "5d715835",
   "metadata": {},
   "outputs": [
    {
     "name": "stdout",
     "output_type": "stream",
     "text": [
      "KODAI TARO\n"
     ]
    }
   ],
   "source": [
    "# 3. The variable above is called a string\n",
    "# You can use single or double quotes (but must close them)\n",
    "# You can ask Python what type a variable is. Try uncommenting the next line:\n",
    "# print(type(message))\n",
    "\n",
    "print(\"KODAI TARO\")\n",
    "\n",
    "# GO!"
   ]
  },
  {
   "cell_type": "code",
   "execution_count": 5,
   "id": "78e6642b",
   "metadata": {},
   "outputs": [
    {
     "name": "stdout",
     "output_type": "stream",
     "text": [
      "777\n"
     ]
    }
   ],
   "source": [
    "# 4. Another type of variable is an integer (a whole number)\n",
    "\n",
    "a = 123\n",
    "b = 654\n",
    "c = a + b\n",
    "\n",
    "# Try printing the value of c below to see the answer\n",
    "\n",
    "print(c)\n",
    "\n",
    "# GO!"
   ]
  },
  {
   "cell_type": "code",
   "execution_count": 6,
   "id": "00384e2d",
   "metadata": {},
   "outputs": [
    {
     "name": "stdout",
     "output_type": "stream",
     "text": [
      "80442\n",
      "531\n",
      "48\n",
      "1102\n"
     ]
    }
   ],
   "source": [
    "# 5. You can use other operators like subtract (-) and multiply (*)\n",
    "# Try some below by replacing the word with the correct operator\n",
    "\n",
    "# a times b\n",
    "# b minus a\n",
    "# 12 times 4\n",
    "# 103 add 999\n",
    "\n",
    "print(a*b)\n",
    "print(b-a)\n",
    "print(12*4)\n",
    "print(103+999)\n",
    "\n",
    "# GO!"
   ]
  },
  {
   "cell_type": "code",
   "execution_count": 7,
   "id": "524ae231",
   "metadata": {},
   "outputs": [
    {
     "name": "stdout",
     "output_type": "stream",
     "text": [
      "100\n",
      "50\n",
      "60\n"
     ]
    }
   ],
   "source": [
    "# 6. Variables keep their value until you change it\n",
    "\n",
    "a = 100\n",
    "# print(a)  # think - should this be 123 or 100?\n",
    "\n",
    "c = 50\n",
    "# print(c)  # think - should this be 50 or 777?\n",
    "\n",
    "d = 10 + a - c\n",
    "# print(d)  # think - what should this be now?\n",
    "\n",
    "print(a)\n",
    "print(c)\n",
    "print(d)\n",
    "\n",
    "# GO!"
   ]
  },
  {
   "cell_type": "code",
   "execution_count": 8,
   "id": "16bdeae4",
   "metadata": {},
   "outputs": [
    {
     "name": "stdout",
     "output_type": "stream",
     "text": [
      "Hi Taro\n"
     ]
    }
   ],
   "source": [
    "# 7. You can also use '+' to add together two strings\n",
    "\n",
    "greeting = 'Hi '\n",
    "name = 'Taro'  # enter your name in this string\n",
    "\n",
    "message = greeting + name\n",
    "# print(message)\n",
    "\n",
    "print(message)\n",
    "\n",
    "# GO!"
   ]
  },
  {
   "cell_type": "code",
   "execution_count": 9,
   "id": "499dc76c",
   "metadata": {},
   "outputs": [
    {
     "ename": "TypeError",
     "evalue": "can only concatenate str (not \"int\") to str",
     "output_type": "error",
     "traceback": [
      "\u001b[1;31m---------------------------------------------------------------------------\u001b[0m",
      "\u001b[1;31mTypeError\u001b[0m                                 Traceback (most recent call last)",
      "Input \u001b[1;32mIn [9]\u001b[0m, in \u001b[0;36m<cell line: 9>\u001b[1;34m()\u001b[0m\n\u001b[0;32m      1\u001b[0m \u001b[38;5;66;03m# 8. Try adding a number and a string together and you get an error:\u001b[39;00m\n\u001b[0;32m      2\u001b[0m \n\u001b[0;32m      3\u001b[0m \u001b[38;5;66;03m# age =  # enter your age here (as a number)\u001b[39;00m\n\u001b[0;32m      4\u001b[0m \n\u001b[0;32m      5\u001b[0m \u001b[38;5;66;03m# print(name + ' is ' + age + ' years old')\u001b[39;00m\n\u001b[0;32m      7\u001b[0m age \u001b[38;5;241m=\u001b[39m \u001b[38;5;241m22\u001b[39m\n\u001b[1;32m----> 9\u001b[0m \u001b[38;5;28mprint\u001b[39m(\u001b[43mname\u001b[49m\u001b[43m \u001b[49m\u001b[38;5;241;43m+\u001b[39;49m\u001b[43m \u001b[49m\u001b[38;5;124;43m'\u001b[39;49m\u001b[38;5;124;43m is \u001b[39;49m\u001b[38;5;124;43m'\u001b[39;49m\u001b[43m \u001b[49m\u001b[38;5;241;43m+\u001b[39;49m\u001b[43m \u001b[49m\u001b[43mage\u001b[49m \u001b[38;5;241m+\u001b[39m \u001b[38;5;124m'\u001b[39m\u001b[38;5;124m years old\u001b[39m\u001b[38;5;124m'\u001b[39m)\n",
      "\u001b[1;31mTypeError\u001b[0m: can only concatenate str (not \"int\") to str"
     ]
    }
   ],
   "source": [
    "# 8. Try adding a number and a string together and you get an error:\n",
    "\n",
    "# age =  # enter your age here (as a number)\n",
    "\n",
    "# print(name + ' is ' + age + ' years old')\n",
    "\n",
    "age = 22\n",
    "\n",
    "print(name + ' is ' + age + ' years old')\n",
    "\n",
    "# GO!"
   ]
  },
  {
   "cell_type": "code",
   "execution_count": 10,
   "id": "a4dc3195",
   "metadata": {},
   "outputs": [],
   "source": [
    "# See the error? You can't mix types like that.\n",
    "# But see how it tells you which line was the error?\n",
    "# Now comment out that line so there is no error"
   ]
  },
  {
   "cell_type": "code",
   "execution_count": 11,
   "id": "3ac5dad3",
   "metadata": {},
   "outputs": [
    {
     "name": "stdout",
     "output_type": "stream",
     "text": [
      "Taro is 22 years old\n"
     ]
    }
   ],
   "source": [
    "# 9. We can convert numbers to strings like this:\n",
    "\n",
    "# print(name + ' is ' + str(age) + ' years old')\n",
    "\n",
    "print(name + ' is ' + str(age) + ' years old')\n",
    "\n",
    "# GO!\n",
    "\n",
    "# No error this time, I hope?"
   ]
  },
  {
   "cell_type": "code",
   "execution_count": 12,
   "id": "f440b504",
   "metadata": {},
   "outputs": [
    {
     "name": "stdout",
     "output_type": "stream",
     "text": [
      "Taro is 22 years old\n"
     ]
    }
   ],
   "source": [
    "# Or we could just make sure we enter it as a string:\n",
    "\n",
    "# age =  # enter your age here, as a string\n",
    "\n",
    "age = \"22\"\n",
    "\n",
    "# print(name + ' is ' + age + ' years old')\n",
    "\n",
    "print(name + \" is \" + age + \" years old\")\n",
    "\n",
    "# GO!\n",
    "\n",
    "# No error this time, I hope?"
   ]
  },
  {
   "cell_type": "code",
   "execution_count": 13,
   "id": "7cffa96a",
   "metadata": {},
   "outputs": [
    {
     "name": "stdout",
     "output_type": "stream",
     "text": [
      "True\n"
     ]
    }
   ],
   "source": [
    "# 10. Another variable type is called a boolean\n",
    "# This means either True or False\n",
    "\n",
    "raspberry_pi_is_fun = True\n",
    "raspberry_pi_is_expensive = False\n",
    "\n",
    "# We can also compare two variables using ==\n",
    "\n",
    "bobs_age = 15\n",
    "# your_age =  # fill in your age\n",
    "\n",
    "your_age = 15\n",
    "\n",
    "# print(your_age == bobs_age)  \n",
    "# this prints either True or False\n",
    "\n",
    "print(your_age == bobs_age)\n",
    "\n",
    "# GO!"
   ]
  },
  {
   "cell_type": "code",
   "execution_count": 14,
   "id": "c2ba4ccb",
   "metadata": {},
   "outputs": [
    {
     "name": "stdout",
     "output_type": "stream",
     "text": [
      "False\n"
     ]
    }
   ],
   "source": [
    "# 11. We can use less than and greater than too - these are < and >\n",
    "\n",
    "# bob_is_older = bobs_age > your_age\n",
    "\n",
    "bob_is_older = bobs_age > your_age\n",
    "\n",
    "# print(bob_is_older)  \n",
    "# do you expect True or False?\n",
    "\n",
    "print(bob_is_older)\n",
    "\n",
    "# GO!"
   ]
  },
  {
   "cell_type": "code",
   "execution_count": 15,
   "id": "14c389c3",
   "metadata": {},
   "outputs": [
    {
     "name": "stdout",
     "output_type": "stream",
     "text": [
      "You have enough money for both\n"
     ]
    }
   ],
   "source": [
    "# 12. We can ask questions before printing with an if statement\n",
    "\n",
    "money = 500\n",
    "phone_cost = 240\n",
    "tablet_cost = 200\n",
    "\n",
    "total_cost = phone_cost + tablet_cost\n",
    "can_afford_both = money > total_cost\n",
    "\n",
    "if can_afford_both:\n",
    "    message = \"You have enough money for both\"\n",
    "else:\n",
    "    message = \"You can't afford both devices\"\n",
    "\n",
    "# print(message)  \n",
    "# what do you expect to see here?\n",
    "\n",
    "print(message)  \n",
    "\n",
    "# GO!"
   ]
  },
  {
   "cell_type": "code",
   "execution_count": 16,
   "id": "52f85f66",
   "metadata": {},
   "outputs": [
    {
     "name": "stdout",
     "output_type": "stream",
     "text": [
      "You can't afford both devices\n"
     ]
    }
   ],
   "source": [
    "# Now change the value of tablet_cost to 260 and run it again\n",
    "# What should the message be this time?\n",
    "\n",
    "money = 500\n",
    "phone_cost = 240\n",
    "tablet_cost = 260\n",
    "\n",
    "total_cost = phone_cost + tablet_cost\n",
    "can_afford_both = money > total_cost\n",
    "\n",
    "if can_afford_both:\n",
    "    message = \"You have enough money for both\"\n",
    "else:\n",
    "    message = \"You can't afford both devices\"\n",
    "\n",
    "print(message)  \n",
    "\n",
    "# GO!"
   ]
  },
  {
   "cell_type": "code",
   "execution_count": 17,
   "id": "6aa30165",
   "metadata": {},
   "outputs": [
    {
     "name": "stdout",
     "output_type": "stream",
     "text": [
      "You can't afford 3 raspberry pies\n"
     ]
    }
   ],
   "source": [
    "# Is this right? You might need to change the comparison operator to >=\n",
    "# This means 'greater than or equal to'\n",
    "\n",
    "raspberry_pi = 25\n",
    "pies = 3 * raspberry_pi\n",
    "\n",
    "total_cost = total_cost + pies\n",
    "\n",
    "if total_cost <= money:\n",
    "    message = \"You have enough money for 3 raspberry pies as well\"\n",
    "else:\n",
    "    message = \"You can't afford 3 raspberry pies\"\n",
    "\n",
    "# print(message)  \n",
    "# what do you expect to see here?\n",
    "\n",
    "print(message)\n",
    "\n",
    "# GO!"
   ]
  },
  {
   "cell_type": "code",
   "execution_count": 18,
   "id": "5116fb3e",
   "metadata": {},
   "outputs": [
    {
     "name": "stdout",
     "output_type": "stream",
     "text": [
      "False\n"
     ]
    }
   ],
   "source": [
    "# 13. You can keep many items in a type of variable called a list\n",
    "\n",
    "colours = ['Red', 'Orange', 'Yellow', 'Green', 'Blue', 'Indigo', 'Violet']\n",
    "\n",
    "# You can check whether a colour is in the list\n",
    "\n",
    "# print('Black' in colours)  \n",
    "# Prints True or False\n",
    "\n",
    "print('Black' in colours) \n",
    "\n",
    "# GO!"
   ]
  },
  {
   "cell_type": "code",
   "execution_count": 19,
   "id": "6bf5f3ad",
   "metadata": {},
   "outputs": [
    {
     "name": "stdout",
     "output_type": "stream",
     "text": [
      "True\n"
     ]
    }
   ],
   "source": [
    "# You can add to the list with append\n",
    "\n",
    "colours.append('Black')\n",
    "colours.append('White')\n",
    "\n",
    "# print('Black' in colours)  \n",
    "# Should this be different now?\n",
    "\n",
    "print('Black' in colours) \n",
    "\n",
    "# GO!"
   ]
  },
  {
   "cell_type": "code",
   "execution_count": 20,
   "id": "ba422986",
   "metadata": {},
   "outputs": [
    {
     "name": "stdout",
     "output_type": "stream",
     "text": [
      "True\n",
      "False\n"
     ]
    }
   ],
   "source": [
    "# You can add a list to a list with extend\n",
    "\n",
    "more_colours = ['Gray', 'Navy', 'Pink']\n",
    "\n",
    "colours.extend(more_colours)\n",
    "\n",
    "# Try printing the list to see what's in it\n",
    "\n",
    "print('Navy' in colours) \n",
    "print('Offwhite' in colours) \n",
    "\n",
    "# GO!"
   ]
  },
  {
   "cell_type": "code",
   "execution_count": 21,
   "id": "1d3621e4",
   "metadata": {},
   "outputs": [
    {
     "name": "stdout",
     "output_type": "stream",
     "text": [
      "['Red', 'Blue', 'Yellow', 'Purple', 'Orange', 'Green']\n"
     ]
    }
   ],
   "source": [
    "# 14. You can add two lists together in to a new list using +\n",
    "\n",
    "primary_colours = ['Red', 'Blue', 'Yellow']\n",
    "secondary_colours = ['Purple', 'Orange', 'Green']\n",
    "\n",
    "main_colours = primary_colours + secondary_colours\n",
    "\n",
    "# Try printing main_colours\n",
    "\n",
    "print(main_colours) "
   ]
  },
  {
   "cell_type": "code",
   "execution_count": 22,
   "id": "ade67267",
   "metadata": {},
   "outputs": [
    {
     "data": {
      "text/plain": [
       "6"
      ]
     },
     "execution_count": 22,
     "metadata": {},
     "output_type": "execute_result"
    }
   ],
   "source": [
    "# 15. You can find how many there are by using len(your_list). Try it below\n",
    "\n",
    "# How many colours are there in main_colours?\n",
    "\n",
    "len(main_colours)\n",
    "\n",
    "# GO!"
   ]
  },
  {
   "cell_type": "code",
   "execution_count": 23,
   "id": "10be1a69",
   "metadata": {},
   "outputs": [
    {
     "data": {
      "text/plain": [
       "18"
      ]
     },
     "execution_count": 23,
     "metadata": {},
     "output_type": "execute_result"
    }
   ],
   "source": [
    "all_colours = colours + main_colours\n",
    "\n",
    "# How many colours are there in all_colours?\n",
    "# Do it here. Try to think what you expect before you run it\n",
    "\n",
    "len(all_colours)\n",
    "\n",
    "# GO!\n",
    "\n",
    "# Did you get what you expected? If not, why not?"
   ]
  },
  {
   "cell_type": "code",
   "execution_count": 24,
   "id": "fbe8ed99",
   "metadata": {},
   "outputs": [
    {
     "name": "stdout",
     "output_type": "stream",
     "text": [
      "[2, 4, 6, 8, 10, 12, 3, 6, 9, 12] 10\n",
      "{2, 3, 4, 6, 8, 9, 10, 12} 8\n"
     ]
    }
   ],
   "source": [
    "# 16. You can make sure you don't have duplicates by adding to a set\n",
    "\n",
    "even_numbers = [2, 4, 6, 8, 10, 12]\n",
    "multiples_of_three = [3, 6, 9, 12]\n",
    "\n",
    "numbers = even_numbers + multiples_of_three\n",
    "# print(numbers, len(numbers))\n",
    "numbers_set = set(numbers)\n",
    "# print(numbers_set, len(numbers_set))\n",
    "\n",
    "print(numbers, len(numbers))\n",
    "print(numbers_set, len(numbers_set))\n",
    "\n",
    "# GO!"
   ]
  },
  {
   "cell_type": "code",
   "execution_count": 25,
   "id": "46544b65",
   "metadata": {},
   "outputs": [
    {
     "name": "stdout",
     "output_type": "stream",
     "text": [
      "{'Violet', 'Red', 'Navy', 'Blue', 'Green', 'Pink', 'Yellow', 'Gray', 'White', 'Purple', 'Indigo', 'Black', 'Orange'} 13\n"
     ]
    }
   ],
   "source": [
    "colour_set = set(all_colours)\n",
    "# How many colours do you expect to be in this time?\n",
    "# Do you expect the same or not? Think about it first\n",
    "\n",
    "print(colour_set,len(colour_set))"
   ]
  },
  {
   "cell_type": "code",
   "execution_count": 26,
   "id": "89ba3a9b",
   "metadata": {},
   "outputs": [
    {
     "name": "stdout",
     "output_type": "stream",
     "text": [
      "Sarah\n",
      "Bob\n",
      "Jim\n",
      "Tom\n",
      "Lucy\n",
      "Sophie\n",
      "Liz\n",
      "Ed\n"
     ]
    }
   ],
   "source": [
    "# 17. You can use a loop to look over all the items in a list\n",
    "\n",
    "my_class = ['Sarah', 'Bob', 'Jim', 'Tom', 'Lucy', 'Sophie', 'Liz', 'Ed']\n",
    "\n",
    "# Below is a multi-line comment\n",
    "# Delete the ''' from before and after to uncomment the block\n",
    "\n",
    "'''\n",
    "for student in my_class:\n",
    "    print(student)\n",
    "'''\n",
    "\n",
    "for student in my_class:\n",
    "    print(student)\n",
    "\n",
    "\n",
    "# Add all the names of people in your group to this list\n",
    "\n",
    "# Remember the difference between append and extend. You can use either.\n",
    "\n",
    "# Now write a loop to print a number (starting from 1) before each name"
   ]
  },
  {
   "cell_type": "code",
   "execution_count": 27,
   "id": "614b2e75",
   "metadata": {},
   "outputs": [
    {
     "name": "stdout",
     "output_type": "stream",
     "text": [
      "Dominic Adrian Smith\n",
      "D\n",
      "h\n",
      "Dom\n",
      "ith\n",
      "Adrian\n",
      "D\n",
      "o\n",
      "m\n",
      "i\n",
      "n\n",
      "i\n",
      "c\n",
      " \n",
      "A\n",
      "d\n",
      "r\n",
      "i\n",
      "a\n",
      "n\n",
      " \n",
      "S\n",
      "m\n",
      "i\n",
      "t\n",
      "h\n"
     ]
    }
   ],
   "source": [
    "# 18. You can split up a string by index\n",
    "\n",
    "full_name = 'Dominic Adrian Smith'\n",
    "\n",
    "first_letter = full_name[0]\n",
    "last_letter = full_name[19]\n",
    "first_three = full_name[:3]  # [0:3 also works]\n",
    "last_three = full_name[-3:]  # [17:] and [17:20] also work\n",
    "middle = full_name[8:14]\n",
    "\n",
    "# Try printing these, and try to make a word out of the individual letters\n",
    "\n",
    "print(full_name)\n",
    "print(first_letter)\n",
    "print(last_letter)\n",
    "print(first_three)\n",
    "print(last_three)\n",
    "print(middle)\n",
    "\n",
    "i=0\n",
    "for student in full_name:\n",
    "    print(full_name[i])\n",
    "    i=i+1\n"
   ]
  },
  {
   "cell_type": "code",
   "execution_count": 28,
   "id": "413d45b1",
   "metadata": {},
   "outputs": [
    {
     "name": "stdout",
     "output_type": "stream",
     "text": [
      "['Hello', ' my name is Fred']\n",
      "<class 'list'>\n"
     ]
    }
   ],
   "source": [
    "# 19. You can also split the string on a specific character\n",
    "\n",
    "my_sentence = \"Hello, my name is Fred\"\n",
    "parts = my_sentence.split(',')\n",
    "\n",
    "# print(parts)\n",
    "# print(type(parts))  \n",
    "# What type is this variable? What can you do with it?\n",
    "\n",
    "print(parts)\n",
    "print(type(parts)) \n",
    "\n",
    "# GO!"
   ]
  },
  {
   "cell_type": "code",
   "execution_count": 29,
   "id": "4b16610b",
   "metadata": {},
   "outputs": [
    {
     "data": {
      "text/plain": [
       "11"
      ]
     },
     "execution_count": 29,
     "metadata": {},
     "output_type": "execute_result"
    }
   ],
   "source": [
    "my_long_sentence = \"This is a very very very very very very long sentence\"\n",
    "\n",
    "# Now split the sentence and use this to print out the number of words\n",
    "\n",
    "parts = my_long_sentence.split(' ')\n",
    "len(parts)\n",
    "\n",
    "# GO! (Clues below if you're stuck)\n",
    "\n",
    "# Clue: Which character do you split on to separate words?\n",
    "# Clue: What type is the split variable?\n",
    "# Clue: What can you do to count these?"
   ]
  },
  {
   "cell_type": "code",
   "execution_count": 30,
   "id": "c486941a",
   "metadata": {},
   "outputs": [
    {
     "name": "stdout",
     "output_type": "stream",
     "text": [
      "Bobby is 26 years old\n"
     ]
    }
   ],
   "source": [
    "# 20. You can group data together in a tuple\n",
    "\n",
    "person = ('Bobby', 26)\n",
    "\n",
    "# print(person[0] + ' is ' + str(person[1]) + ' years old')\n",
    "\n",
    "print(person[0] + ' is ' + str(person[1]) + ' years old')\n",
    "\n",
    "# GO!"
   ]
  },
  {
   "cell_type": "code",
   "execution_count": 31,
   "id": "a152b831",
   "metadata": {},
   "outputs": [
    {
     "name": "stdout",
     "output_type": "stream",
     "text": [
      "Dave is 12 years old\n",
      "Sophia is 13 years old\n",
      "Sam is 12 years old\n",
      "Kate is 11 years old\n",
      "Daniel is 10 years old\n"
     ]
    }
   ],
   "source": [
    "# (name, age)\n",
    "students = [\n",
    "    ('Dave', 12),\n",
    "    ('Sophia', 13),\n",
    "    ('Sam', 12),\n",
    "    ('Kate', 11),\n",
    "    ('Daniel', 10)\n",
    "]\n",
    "\n",
    "# Now write a loop to print each of the students' names and age\n",
    "\n",
    "for person in students:\n",
    "    print(person[0] + ' is ' + str(person[1]) + ' years old')\n",
    "\n",
    "\n",
    "# GO!"
   ]
  },
  {
   "cell_type": "code",
   "execution_count": 32,
   "id": "8f8c1206",
   "metadata": {},
   "outputs": [
    {
     "name": "stdout",
     "output_type": "stream",
     "text": [
      "Iizumi is 24 years old and his/her favorie is Trumpet\n",
      "Tsukagoshi is 22 years old and his/her favorie is Volleyball\n",
      "Yamamoto is 22 years old and his/her favorie is Baseball\n",
      "Wahei is 22 years old and his/her favorie is Walking\n",
      "Yoshikane is 22 years old and his/her favorie is Volleyball\n",
      "Murofushi is 22 years old and his/her favorie is Sleeping\n",
      "Terao is 22 years old and his/her favorie is Tennis\n"
     ]
    }
   ],
   "source": [
    "# 21. Tuples can be any length. The above examples are 2-tuples.\n",
    "\n",
    "# Try making a list of students with (name, age, favourite subject and sport)\n",
    "\n",
    "students = [\n",
    "    ('Iizumi', 24, 'Trumpet'),\n",
    "    ('Tsukagoshi', 22, 'Volleyball'),\n",
    "    ('Yamamoto', 22, 'Baseball'),\n",
    "    ('Wahei', 22, 'Walking'),\n",
    "    ('Yoshikane', 22, 'Volleyball'),\n",
    "    ('Murofushi', 22, 'Sleeping'),\n",
    "    ('Terao', 22, 'Tennis')\n",
    "]\n",
    "\n",
    "# Now loop over them printing each one out\n",
    "\n",
    "for member in students:\n",
    "    print(member[0] + ' is ' + str(member[1]) + ' years old and his/her favorie is ' + member[2])\n",
    "\n",
    "# Now pick a number (in the students' age range)\n",
    "# Make the loop only print the students older than that number\n",
    "\n",
    "# GO!"
   ]
  },
  {
   "cell_type": "code",
   "execution_count": 33,
   "id": "1e15d81f",
   "metadata": {},
   "outputs": [
    {
     "name": "stdout",
     "output_type": "stream",
     "text": [
      "0115 8901 165\n",
      "False\n",
      "True\n",
      "False\n",
      "True\n",
      "False\n"
     ]
    }
   ],
   "source": [
    "# 22. Another useful data structure is a dictionary\n",
    "\n",
    "# Dictionaries contain key-value pairs like an address book maps name\n",
    "# to number\n",
    "\n",
    "addresses = {\n",
    "    'Lauren': '0161 5673 890',\n",
    "    'Amy': '0115 8901 165',\n",
    "    'Daniel': '0114 2290 542',\n",
    "    'Emergency': '999'\n",
    "}\n",
    "\n",
    "# You access dictionary elements by looking them up with the key:\n",
    "\n",
    "# print(addresses['Amy'])\n",
    "\n",
    "print(addresses['Amy'])\n",
    "\n",
    "# You can check if a key or value exists in a given dictionary:\n",
    "\n",
    "# print('David' in addresses)  # [False]\n",
    "# print('Daniel' in addresses)  # [True]\n",
    "# print('999' in addresses)  # [False]\n",
    "# print('999' in addresses.values())  # [True]\n",
    "# print(999 in addresses.values())  # [False]\n",
    "\n",
    "print('David' in addresses) \n",
    "print('Daniel' in addresses)\n",
    "print('999' in addresses)\n",
    "print('999' in addresses.values())\n",
    "print(999 in addresses.values())\n",
    "\n",
    "# GO!"
   ]
  },
  {
   "cell_type": "code",
   "execution_count": 34,
   "id": "6a446d53",
   "metadata": {},
   "outputs": [
    {
     "name": "stdout",
     "output_type": "stream",
     "text": [
      "0115 236 359\n"
     ]
    }
   ],
   "source": [
    "# Note that 999 was entered in to the dictionary as a string, not an integer\n",
    "\n",
    "# Think: what would happen if phone numbers were stored as integers?\n",
    "\n",
    "# Try changing Amy's phone number to a new number\n",
    "\n",
    "# addresses['Amy'] = '0115 236 359'\n",
    "# print(addresses['Amy'])\n",
    "\n",
    "addresses['Amy'] = '0115 236 359'\n",
    "print(addresses['Amy'])\n",
    "\n",
    "# GO!"
   ]
  },
  {
   "cell_type": "code",
   "execution_count": 35,
   "id": "256cefd4",
   "metadata": {},
   "outputs": [
    {
     "name": "stdout",
     "output_type": "stream",
     "text": [
      "True\n",
      "False\n"
     ]
    }
   ],
   "source": [
    "# Delete Daniel from the dictinary\n",
    "\n",
    "# print('Daniel' in addresses)  # [True]\n",
    "# del addresses['Daniel']\n",
    "# print('Daniel' in addresses)  # [False]\n",
    "\n",
    "print('Daniel' in addresses)\n",
    "del addresses['Daniel']\n",
    "print('Daniel' in addresses)\n",
    "\n",
    "\n",
    "# GO!"
   ]
  },
  {
   "cell_type": "code",
   "execution_count": 36,
   "id": "9dad0182",
   "metadata": {},
   "outputs": [
    {
     "name": "stdout",
     "output_type": "stream",
     "text": [
      "Lauren 0161 5673 890\n",
      "Amy 0115 236 359\n",
      "Emergency 999\n"
     ]
    }
   ],
   "source": [
    "# You can also loop over a dictionary and access its contents:\n",
    "\n",
    "'''\n",
    "for name in addresses:\n",
    "    print(name, addresses[name])\n",
    "'''\n",
    "\n",
    "for name in addresses:\n",
    "    print(name, addresses[name])\n",
    "\n",
    "# GO!"
   ]
  },
  {
   "cell_type": "code",
   "execution_count": 37,
   "id": "66c1dbdb",
   "metadata": {},
   "outputs": [
    {
     "name": "stdout",
     "output_type": "stream",
     "text": [
      "500500\n"
     ]
    }
   ],
   "source": [
    "# 23. A final challenge using the skills you've learned:\n",
    "# What is the sum of all the digits in all the numbers from 1 to 1000?\n",
    "\n",
    "# GO!\n",
    "\n",
    "all_num = 0\n",
    "ran = range(1001)\n",
    "\n",
    "for num in ran:\n",
    "    s_num = str(num)\n",
    "    i_num = int(s_num)\n",
    "    all_num = all_num + i_num\n",
    "\n",
    "print(all_num)\n",
    "\n",
    "\n",
    "# Clue: range(10) => [0, 1, 2, 3, 4, 5, 6, 7, 8, 9]\n",
    "# Clue: str(87) => '87'\n",
    "# Clue: int('9') => 9"
   ]
  },
  {
   "cell_type": "code",
   "execution_count": null,
   "id": "c6aad0bd",
   "metadata": {},
   "outputs": [],
   "source": []
  }
 ],
 "metadata": {
  "kernelspec": {
   "display_name": "Python 3 (ipykernel)",
   "language": "python",
   "name": "python3"
  },
  "language_info": {
   "codemirror_mode": {
    "name": "ipython",
    "version": 3
   },
   "file_extension": ".py",
   "mimetype": "text/x-python",
   "name": "python",
   "nbconvert_exporter": "python",
   "pygments_lexer": "ipython3",
   "version": "3.10.4"
  }
 },
 "nbformat": 4,
 "nbformat_minor": 5
}
