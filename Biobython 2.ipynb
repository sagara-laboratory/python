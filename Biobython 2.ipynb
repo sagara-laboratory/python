{
 "cells": [
  {
   "cell_type": "code",
   "execution_count": 42,
   "id": "eea1af71",
   "metadata": {},
   "outputs": [
    {
     "data": {
      "text/plain": [
       "['35497637', '35496474', '35402671', '34735950', '34484417', '34434786', '34189012', '33994075', '33902722', '33809815', '33242467', '32044951', '31762715', '31278684', '31069053', '30013827', '29641230', '28011774', '24929426', '24497503']"
      ]
     },
     "execution_count": 42,
     "metadata": {},
     "output_type": "execute_result"
    }
   ],
   "source": [
    "from Bio import Entrez\n",
    "Entrez.email = \"jun@neptune.kanazawa-it.ac.jp\"    \n",
    "handle = Entrez.esearch(db=\"pubmed\", term=\"biopython\")\n",
    "record = Entrez.read(handle)\n",
    "record[\"IdList\"]"
   ]
  },
  {
   "cell_type": "code",
   "execution_count": 43,
   "id": "cfdcf6a1",
   "metadata": {},
   "outputs": [
    {
     "data": {
      "text/plain": [
       "'3717'"
      ]
     },
     "execution_count": 43,
     "metadata": {},
     "output_type": "execute_result"
    }
   ],
   "source": [
    "from Bio import Entrez\n",
    "Entrez.email = \"jun@neptune.kanazawa-it.ac.jp\"    \n",
    "handle = Entrez.esearch(db=\"pubmed\", term=\"aspergillus oryzae\")\n",
    "record = Entrez.read(handle)\n",
    "record[\"Count\"]"
   ]
  },
  {
   "cell_type": "code",
   "execution_count": 44,
   "id": "7fbc47a6",
   "metadata": {},
   "outputs": [
    {
     "data": {
      "text/plain": [
       "['35761668', '35761646', '35760407', '35745010', '35744745', '35741984', '35741908', '35741887', '35737654', '35717558', '35698322', '35691900', '35691189', '35689755', '35689417', '35676855', '35662022', '35660508', '35656363', '35652893']"
      ]
     },
     "execution_count": 44,
     "metadata": {},
     "output_type": "execute_result"
    }
   ],
   "source": [
    "record[\"IdList\"]"
   ]
  },
  {
   "cell_type": "code",
   "execution_count": 45,
   "id": "85a82200",
   "metadata": {},
   "outputs": [
    {
     "data": {
      "text/plain": [
       "'92166'"
      ]
     },
     "execution_count": 45,
     "metadata": {},
     "output_type": "execute_result"
    }
   ],
   "source": [
    "from Bio import Entrez\n",
    "Entrez.email = \"jun@neptune.kanazawa-it.ac.jp\"\n",
    "handle = Entrez.esearch(db=\"nucleotide\", term=\"aspergillus oryzae\")\n",
    "record = Entrez.read(handle)\n",
    "record[\"Count\"]"
   ]
  },
  {
   "cell_type": "code",
   "execution_count": 46,
   "id": "1e4ab621",
   "metadata": {},
   "outputs": [
    {
     "data": {
      "text/plain": [
       "'1'"
      ]
     },
     "execution_count": 46,
     "metadata": {},
     "output_type": "execute_result"
    }
   ],
   "source": [
    "from Bio import Entrez\n",
    "Entrez.email = \"jun@neptune.kanazawa-it.ac.jp\"\n",
    "handle = Entrez.esearch(db=\"nucleotide\", term=\"aspergillus oryzae AND AMY1[Gene]\")\n",
    "record = Entrez.read(handle)\n",
    "record[\"Count\"]"
   ]
  },
  {
   "cell_type": "code",
   "execution_count": 47,
   "id": "c2828850",
   "metadata": {},
   "outputs": [
    {
     "data": {
      "text/plain": [
       "['2430']"
      ]
     },
     "execution_count": 47,
     "metadata": {},
     "output_type": "execute_result"
    }
   ],
   "source": [
    "record[\"IdList\"]"
   ]
  },
  {
   "cell_type": "code",
   "execution_count": 48,
   "id": "83881bb4",
   "metadata": {},
   "outputs": [
    {
     "name": "stdout",
     "output_type": "stream",
     "text": [
      "LOCUS       X12725                  3366 bp    DNA     linear   PLN 14-NOV-2006\n",
      "DEFINITION  Aspergillus oryzae amy1 gene for alpha-amylase (EC 3.2.1.1).\n",
      "ACCESSION   X12725\n",
      "VERSION     X12725.1\n",
      "KEYWORDS    amy1 gene; amylase-alpha.\n",
      "SOURCE      Aspergillus oryzae\n",
      "  ORGANISM  Aspergillus oryzae\n",
      "            Eukaryota; Fungi; Dikarya; Ascomycota; Pezizomycotina;\n",
      "            Eurotiomycetes; Eurotiomycetidae; Eurotiales; Aspergillaceae;\n",
      "            Aspergillus; Aspergillus subgen. Circumdati.\n",
      "REFERENCE   1  (bases 1 to 3366)\n",
      "  AUTHORS   Wirsel,S., Lachmund,A., Wildhardt,G. and Ruttkowski,E.\n",
      "  TITLE     Three alpha-amylase genes of Aspergillus oryzae exhibit identical\n",
      "            intron-exon organization\n",
      "  JOURNAL   Mol. Microbiol. 3 (1), 3-14 (1989)\n",
      "   PUBMED   2785629\n",
      "REFERENCE   2  (bases 1 to 3366)\n",
      "  AUTHORS   Wirsel,S.\n",
      "  TITLE     Direct Submission\n",
      "  JOURNAL   Submitted (26-AUG-1988) Wirsel S., Inst. f. Biochemie, TH\n",
      "            Darmstadt, Petersenstr. 22, D-6100 Darmstadt, FRG\n",
      "COMMENT     [2] also presents a cDNA seq (clone pGW8); pGW8 is lacking the\n",
      "            first 42 bp of the exon when compared to genomic seq and includes a\n",
      "            poly(A) tail.\n",
      "            see x12725 - x12727 for A. oryzae amy1, amy2 and amy3 genes.\n",
      "FEATURES             Location/Qualifiers\n",
      "     source          1..3366\n",
      "                     /organism=\"Aspergillus oryzae\"\n",
      "                     /mol_type=\"genomic DNA\"\n",
      "                     /strain=\"DSM 63303\"\n",
      "                     /db_xref=\"taxon:5062\"\n",
      "                     /clone=\"lambda StW7\"\n",
      "                     /clone_lib=\"EMBL3\"\n",
      "     gene            552..2934\n",
      "                     /gene=\"amy1\"\n",
      "     prim_transcript 552..2934\n",
      "                     /gene=\"amy1\"\n",
      "     exon            552..782\n",
      "                     /gene=\"amy1\"\n",
      "                     /number=1\n",
      "     CDS             join(615..782,838..876,962..1077,1147..1255,1324..1552,\n",
      "                     1611..1773,1839..1985,2051..2291,2371..2658)\n",
      "                     /gene=\"amy1\"\n",
      "                     /codon_start=1\n",
      "                     /product=\"alpha-amylase\"\n",
      "                     /protein_id=\"CAA31218.1\"\n",
      "                     /db_xref=\"GOA:P0C1B3\"\n",
      "                     /db_xref=\"InterPro:IPR006046\"\n",
      "                     /db_xref=\"InterPro:IPR006047\"\n",
      "                     /db_xref=\"InterPro:IPR006589\"\n",
      "                     /db_xref=\"InterPro:IPR013777\"\n",
      "                     /db_xref=\"InterPro:IPR013780\"\n",
      "                     /db_xref=\"InterPro:IPR013781\"\n",
      "                     /db_xref=\"InterPro:IPR015340\"\n",
      "                     /db_xref=\"InterPro:IPR017853\"\n",
      "                     /db_xref=\"PDB:2GUY\"\n",
      "                     /db_xref=\"PDB:2GVY\"\n",
      "                     /db_xref=\"PDB:2TAA\"\n",
      "                     /db_xref=\"PDB:3KWX\"\n",
      "                     /db_xref=\"PDB:6TAA\"\n",
      "                     /db_xref=\"PDB:7TAA\"\n",
      "                     /db_xref=\"UniProtKB/Swiss-Prot:P0C1B3\"\n",
      "                     /translation=\"MMVAWWSLFLYGLQVAAPALAATPADWRSQSIYFLLTDRFARTD\n",
      "                     GSTTATCNTADQKYCGGTWQGIIDKLDYIQGMGFTAIWITPVTAQLPQTTAYGDAYHG\n",
      "                     YWQQDIYSLNENYGTADDLKALSSALHERGMYLMVDVVANHMGYDGAGSSVDYSVFKP\n",
      "                     FSSQDYFHPFCFIQNYEDQTQVEDCWLGDNTVSLPDLDTTKDVVKNEWYDWVGSLVSN\n",
      "                     YSIDGLRIDTVKHVQKDFWPGYNKAAGVYCIGEVLDGDPAYTCPYQNVMDGVLNYPIY\n",
      "                     YPLLNAFKSTSGSMDDLYNMINTVKSDCPDSTLLGTFVENHDNPRFASYTNDIALAKN\n",
      "                     VAAFIILNDGIPIIYAGQEQHYAGGNDPANREATWLSGYPTDSELYKLIASANAIRNY\n",
      "                     AISKDTGFVTYKNWPIYKDDTTIAMRKGTDGSQIVTILSNKGASGDSYTLSLSGAGYT\n",
      "                     AGQQLTEVIGCTTVTVGSDGNVPVPMAGGLPRVLYPTEKLAGSKICSSS\"\n",
      "     sig_peptide     615..677\n",
      "                     /gene=\"amy1\"\n",
      "     mat_peptide     join(678..782,838..876,962..1077,1147..1255,1324..1552,\n",
      "                     1611..1773,1839..1985,2051..2291,2371..2655)\n",
      "                     /gene=\"amy1\"\n",
      "                     /product=\"alpha-amylase\"\n",
      "     intron          783..837\n",
      "                     /gene=\"amy1\"\n",
      "                     /number=1\n",
      "     exon            838..876\n",
      "                     /gene=\"amy1\"\n",
      "                     /number=2\n",
      "     intron          877..961\n",
      "                     /gene=\"amy1\"\n",
      "                     /number=2\n",
      "     exon            962..1077\n",
      "                     /gene=\"amy1\"\n",
      "                     /number=3\n",
      "     intron          1078..1146\n",
      "                     /gene=\"amy1\"\n",
      "                     /number=3\n",
      "     exon            1147..1255\n",
      "                     /gene=\"amy1\"\n",
      "                     /number=4\n",
      "     intron          1256..1323\n",
      "                     /gene=\"amy1\"\n",
      "                     /number=4\n",
      "     exon            1324..1552\n",
      "                     /gene=\"amy1\"\n",
      "                     /number=5\n",
      "     intron          1553..1610\n",
      "                     /gene=\"amy1\"\n",
      "                     /number=5\n",
      "     exon            1611..1773\n",
      "                     /gene=\"amy1\"\n",
      "                     /number=6\n",
      "     intron          1774..1838\n",
      "                     /gene=\"amy1\"\n",
      "                     /number=6\n",
      "     exon            1839..1985\n",
      "                     /gene=\"amy1\"\n",
      "                     /number=7\n",
      "     intron          1986..2050\n",
      "                     /gene=\"amy1\"\n",
      "                     /number=7\n",
      "     exon            2051..2291\n",
      "                     /gene=\"amy1\"\n",
      "                     /number=8\n",
      "     intron          2292..2370\n",
      "                     /gene=\"amy1\"\n",
      "                     /number=8\n",
      "     exon            2371..2934\n",
      "                     /gene=\"amy1\"\n",
      "                     /number=9\n",
      "     polyA_site      2934\n",
      "                     /gene=\"amy1\"\n",
      "                     /note=\"pGW8\"\n",
      "ORIGIN      \n",
      "        1 ttcatggtgt tttgatcatt ttaaattttt atatggcggg tggtgggcaa ctcgcttgcg\n",
      "       61 cgggcaactc gcttaccgat tacgttaggg ctgatattta cgtaaaaatc gtcaagggat\n",
      "      121 gcaagaccaa agtagtaaaa ccccggagtc aacagcatcc aagcccaagt ccttcacgga\n",
      "      181 gaaaccccag cgtccacatc acgagcgaag gaccacctct aggcatcgga cgcaccatcc\n",
      "      241 aattagaagc agcaaagcga aacagcccaa gaaaaaggtc ggcccgtcgg ccttttctgc\n",
      "      301 aacgctgatc acgggcagcg atccaaccaa caccctccag agtgactagg ggcggaaatt\n",
      "      361 taaagggatt aatttccact caaccacaaa tcacagtcgt ccccggtatt gtcctgcaga\n",
      "      421 atgcaattta aactcttctg cgaatcgctt ggattccccg cccctggccg tagagcttaa\n",
      "      481 agtatgtccc ttgtcgatgc gatgtatcac aacatataaa tactagcaag ggatgccatg\n",
      "      541 cttggaggat agcaaccgac aacatcacat caagctctcc cttctctgaa caataaaccc\n",
      "      601 cacagaaggc atttatgatg gtcgcgtggt ggtctctatt tctgtacggc cttcaggtcg\n",
      "      661 cggcacctgc tttggctgca acgcctgcgg actggcgatc gcaatccatt tatttccttc\n",
      "      721 tcacggatcg atttgcaagg acggatgggt cgacgactgc gacttgtaat actgcggatc\n",
      "      781 aggtgtgttg ttacctacta gctttcagaa agaggaatgt aaactgactt gatatagaaa\n",
      "      841 tactgtggtg gaacatggca gggcatcatc gacaaggtaa attgcccctt tatcaaaaaa\n",
      "      901 aaagaaggaa aagcagaaga aaaataaaat aaaaagaact ctagtcctaa ccatcacata\n",
      "      961 gttggactat atccagggaa tgggcttcac agccatctgg atcacccccg ttacagccca\n",
      "     1021 gctgccccag accaccgcat atggagatgc ctaccatggc tactggcagc aggatatgta\n",
      "     1081 agtcgatttc tttaaatatc tacctgtcat cttttacatc aatatgaact aacttgatgg\n",
      "     1141 ttttagatac tctctgaacg aaaactacgg cactgcagat gacttgaagg cgctctcttc\n",
      "     1201 ggcccttcat gagaggggga tgtatcttat ggtcgatgtg gttgctaacc atatggttcg\n",
      "     1261 tggtcctttg caactgactt cgcggatatg gttcatttca gtactgacaa tgagtaatat\n",
      "     1321 cagggctatg atggagcggg tagctcagtc gattacagtg tgtttaaacc gttcagttcc\n",
      "     1381 caagactact tccacccgtt ctgtttcatt caaaactatg aagatcagac tcaggttgag\n",
      "     1441 gattgctggc taggagataa cactgtctcc ttgcctgatc tcgataccac caaggatgtg\n",
      "     1501 gtcaagaatg aatggtacga ctgggtggga tcattggtat cgaactactc cagtaagata\n",
      "     1561 tttctccctc attctacaac ttggctgatc gatgatactt acgaaatcag ttgacggcct\n",
      "     1621 ccgtatcgac acagtaaaac acgtccagaa ggacttctgg cccgggtaca acaaagccgc\n",
      "     1681 aggcgtgtac tgtatcggcg aggtgctcga cggtgatccg gcctacactt gtccctacca\n",
      "     1741 gaacgtcatg gacggcgtac tgaactatcc catgtatggt tcctccaacc atgagccttc\n",
      "     1801 ttgcaagtct catctcctaa cgaaacggct aaaaccagtt actatccact cctcaacgcc\n",
      "     1861 ttcaagtcaa cctccggcag catggacgac ctctacaaca tgatcaacac cgtcaaatcc\n",
      "     1921 gactgtccag actcaacact cctgggcaca ttcgtcgaga accacgacaa cccacggttc\n",
      "     1981 gcttcgtaag tcttcccttt tattttccgt tcccaatttc cacacagaac cccacctaac\n",
      "     2041 aagagcaaag ttacaccaac gacatagccc tcgccaagaa cgtcgcagca ttcatcatcc\n",
      "     2101 tcaacgacgg aatccccatc atctacgccg gccaagaaca gcactacgcc ggcggaaacg\n",
      "     2161 accccgcgaa ccgcgaagca acctggctct cgggctaccc gaccgacagc gagctgtaca\n",
      "     2221 agttaattgc ctccgcgaac gcaatccgga actatgccat tagcaaagat acaggattcg\n",
      "     2281 tgacctacaa ggtaagcaca acctctaagc ataccctaat ggcctatctt cagagtatct\n",
      "     2341 gacacaagag actaatcact ggcaatacag aactggccca tctacaaaga cgacacaacg\n",
      "     2401 atcgccatgc gcaagggcac agatgggtcg cagatcgtga ctatcttgtc caacaagggt\n",
      "     2461 gcttcgggtg attcgtatac cctctccttg agtggtgcgg gttacacagc cggccagcaa\n",
      "     2521 ttgacggagg tcattggctg cacgaccgtg acggttggtt cggatggaaa tgtgcctgtt\n",
      "     2581 cctatggcag gtgggctacc tagggtattg tatccgactg agaagttggc aggtagcaag\n",
      "     2641 atctgtagta gctcgtgaag ggtggagagt atatgatggt actgctattc aatctggcat\n",
      "     2701 tggacagtga gtttgagttt gatgtacagt tggagtcgtt actgctgtca tccccttata\n",
      "     2761 ctcttcgatt gtttttcgaa ccctaatgcc aagcacgcta gtctattata ggaaaggatc\n",
      "     2821 cggattaatg tgttttcata acgcggtact gtatggtact tctgtattat atcaccgaag\n",
      "     2881 ctcatgtatc ttacatgtat atattataca gacacaacct tggttacccc accatgatgt\n",
      "     2941 ttcctgcaga taatctcctg acgatcaatc ttaccacagg gatatgatgg cacccaacct\n",
      "     3001 ggcgccttcg caacatcaaa ttatttgtga tatgatcaag tgcgatccat cacttactaa\n",
      "     3061 tgcccagata gctgaagctg ctaactgcag cacacgcgca attcctagga ttcggtcaaa\n",
      "     3121 tctccggcta ttcggcagta gcaaagcccc tccaaataaa ggtggacgcc cacgaagcat\n",
      "     3181 ctcaccaata atgctggagg ctctttgtga tcatcttctt gaaaagcctg atctatacct\n",
      "     3241 tgacgaaatg gccatctttc tatgggatga gttccaaata tacgcaacta catctagtat\n",
      "     3301 caggcgggct ctgtcttcta aaggttggtc caaaaaggca gctcggcaga aagcaaagga\n",
      "     3361 acggaa\n",
      "//\n",
      "\n",
      "\n"
     ]
    }
   ],
   "source": [
    "handle = Entrez.efetch(db=\"nucleotide\", id=\"2430\", rettype=\"gb\", retmode=\"text\")\n",
    "print(handle.read()) "
   ]
  },
  {
   "cell_type": "code",
   "execution_count": 49,
   "id": "5b62e300",
   "metadata": {},
   "outputs": [
    {
     "name": "stdout",
     "output_type": "stream",
     "text": [
      ">X12725.1 Aspergillus oryzae amy1 gene for alpha-amylase (EC 3.2.1.1)\n",
      "TTCATGGTGTTTTGATCATTTTAAATTTTTATATGGCGGGTGGTGGGCAACTCGCTTGCGCGGGCAACTC\n",
      "GCTTACCGATTACGTTAGGGCTGATATTTACGTAAAAATCGTCAAGGGATGCAAGACCAAAGTAGTAAAA\n",
      "CCCCGGAGTCAACAGCATCCAAGCCCAAGTCCTTCACGGAGAAACCCCAGCGTCCACATCACGAGCGAAG\n",
      "GACCACCTCTAGGCATCGGACGCACCATCCAATTAGAAGCAGCAAAGCGAAACAGCCCAAGAAAAAGGTC\n",
      "GGCCCGTCGGCCTTTTCTGCAACGCTGATCACGGGCAGCGATCCAACCAACACCCTCCAGAGTGACTAGG\n",
      "GGCGGAAATTTAAAGGGATTAATTTCCACTCAACCACAAATCACAGTCGTCCCCGGTATTGTCCTGCAGA\n",
      "ATGCAATTTAAACTCTTCTGCGAATCGCTTGGATTCCCCGCCCCTGGCCGTAGAGCTTAAAGTATGTCCC\n",
      "TTGTCGATGCGATGTATCACAACATATAAATACTAGCAAGGGATGCCATGCTTGGAGGATAGCAACCGAC\n",
      "AACATCACATCAAGCTCTCCCTTCTCTGAACAATAAACCCCACAGAAGGCATTTATGATGGTCGCGTGGT\n",
      "GGTCTCTATTTCTGTACGGCCTTCAGGTCGCGGCACCTGCTTTGGCTGCAACGCCTGCGGACTGGCGATC\n",
      "GCAATCCATTTATTTCCTTCTCACGGATCGATTTGCAAGGACGGATGGGTCGACGACTGCGACTTGTAAT\n",
      "ACTGCGGATCAGGTGTGTTGTTACCTACTAGCTTTCAGAAAGAGGAATGTAAACTGACTTGATATAGAAA\n",
      "TACTGTGGTGGAACATGGCAGGGCATCATCGACAAGGTAAATTGCCCCTTTATCAAAAAAAAAGAAGGAA\n",
      "AAGCAGAAGAAAAATAAAATAAAAAGAACTCTAGTCCTAACCATCACATAGTTGGACTATATCCAGGGAA\n",
      "TGGGCTTCACAGCCATCTGGATCACCCCCGTTACAGCCCAGCTGCCCCAGACCACCGCATATGGAGATGC\n",
      "CTACCATGGCTACTGGCAGCAGGATATGTAAGTCGATTTCTTTAAATATCTACCTGTCATCTTTTACATC\n",
      "AATATGAACTAACTTGATGGTTTTAGATACTCTCTGAACGAAAACTACGGCACTGCAGATGACTTGAAGG\n",
      "CGCTCTCTTCGGCCCTTCATGAGAGGGGGATGTATCTTATGGTCGATGTGGTTGCTAACCATATGGTTCG\n",
      "TGGTCCTTTGCAACTGACTTCGCGGATATGGTTCATTTCAGTACTGACAATGAGTAATATCAGGGCTATG\n",
      "ATGGAGCGGGTAGCTCAGTCGATTACAGTGTGTTTAAACCGTTCAGTTCCCAAGACTACTTCCACCCGTT\n",
      "CTGTTTCATTCAAAACTATGAAGATCAGACTCAGGTTGAGGATTGCTGGCTAGGAGATAACACTGTCTCC\n",
      "TTGCCTGATCTCGATACCACCAAGGATGTGGTCAAGAATGAATGGTACGACTGGGTGGGATCATTGGTAT\n",
      "CGAACTACTCCAGTAAGATATTTCTCCCTCATTCTACAACTTGGCTGATCGATGATACTTACGAAATCAG\n",
      "TTGACGGCCTCCGTATCGACACAGTAAAACACGTCCAGAAGGACTTCTGGCCCGGGTACAACAAAGCCGC\n",
      "AGGCGTGTACTGTATCGGCGAGGTGCTCGACGGTGATCCGGCCTACACTTGTCCCTACCAGAACGTCATG\n",
      "GACGGCGTACTGAACTATCCCATGTATGGTTCCTCCAACCATGAGCCTTCTTGCAAGTCTCATCTCCTAA\n",
      "CGAAACGGCTAAAACCAGTTACTATCCACTCCTCAACGCCTTCAAGTCAACCTCCGGCAGCATGGACGAC\n",
      "CTCTACAACATGATCAACACCGTCAAATCCGACTGTCCAGACTCAACACTCCTGGGCACATTCGTCGAGA\n",
      "ACCACGACAACCCACGGTTCGCTTCGTAAGTCTTCCCTTTTATTTTCCGTTCCCAATTTCCACACAGAAC\n",
      "CCCACCTAACAAGAGCAAAGTTACACCAACGACATAGCCCTCGCCAAGAACGTCGCAGCATTCATCATCC\n",
      "TCAACGACGGAATCCCCATCATCTACGCCGGCCAAGAACAGCACTACGCCGGCGGAAACGACCCCGCGAA\n",
      "CCGCGAAGCAACCTGGCTCTCGGGCTACCCGACCGACAGCGAGCTGTACAAGTTAATTGCCTCCGCGAAC\n",
      "GCAATCCGGAACTATGCCATTAGCAAAGATACAGGATTCGTGACCTACAAGGTAAGCACAACCTCTAAGC\n",
      "ATACCCTAATGGCCTATCTTCAGAGTATCTGACACAAGAGACTAATCACTGGCAATACAGAACTGGCCCA\n",
      "TCTACAAAGACGACACAACGATCGCCATGCGCAAGGGCACAGATGGGTCGCAGATCGTGACTATCTTGTC\n",
      "CAACAAGGGTGCTTCGGGTGATTCGTATACCCTCTCCTTGAGTGGTGCGGGTTACACAGCCGGCCAGCAA\n",
      "TTGACGGAGGTCATTGGCTGCACGACCGTGACGGTTGGTTCGGATGGAAATGTGCCTGTTCCTATGGCAG\n",
      "GTGGGCTACCTAGGGTATTGTATCCGACTGAGAAGTTGGCAGGTAGCAAGATCTGTAGTAGCTCGTGAAG\n",
      "GGTGGAGAGTATATGATGGTACTGCTATTCAATCTGGCATTGGACAGTGAGTTTGAGTTTGATGTACAGT\n",
      "TGGAGTCGTTACTGCTGTCATCCCCTTATACTCTTCGATTGTTTTTCGAACCCTAATGCCAAGCACGCTA\n",
      "GTCTATTATAGGAAAGGATCCGGATTAATGTGTTTTCATAACGCGGTACTGTATGGTACTTCTGTATTAT\n",
      "ATCACCGAAGCTCATGTATCTTACATGTATATATTATACAGACACAACCTTGGTTACCCCACCATGATGT\n",
      "TTCCTGCAGATAATCTCCTGACGATCAATCTTACCACAGGGATATGATGGCACCCAACCTGGCGCCTTCG\n",
      "CAACATCAAATTATTTGTGATATGATCAAGTGCGATCCATCACTTACTAATGCCCAGATAGCTGAAGCTG\n",
      "CTAACTGCAGCACACGCGCAATTCCTAGGATTCGGTCAAATCTCCGGCTATTCGGCAGTAGCAAAGCCCC\n",
      "TCCAAATAAAGGTGGACGCCCACGAAGCATCTCACCAATAATGCTGGAGGCTCTTTGTGATCATCTTCTT\n",
      "GAAAAGCCTGATCTATACCTTGACGAAATGGCCATCTTTCTATGGGATGAGTTCCAAATATACGCAACTA\n",
      "CATCTAGTATCAGGCGGGCTCTGTCTTCTAAAGGTTGGTCCAAAAAGGCAGCTCGGCAGAAAGCAAAGGA\n",
      "ACGGAA\n",
      "\n",
      "\n"
     ]
    }
   ],
   "source": [
    "handle = Entrez.efetch(db=\"nucleotide\", id=\"2430\", rettype=\"fasta\", retmode=\"text\")\n",
    "print(handle.read()) "
   ]
  },
  {
   "cell_type": "code",
   "execution_count": 50,
   "id": "0c528d6d",
   "metadata": {},
   "outputs": [
    {
     "name": "stdout",
     "output_type": "stream",
     "text": [
      "Saved\n"
     ]
    }
   ],
   "source": [
    "import os\n",
    "from Bio import SeqIO\n",
    "from Bio import Entrez\n",
    "Entrez.email = \"jun@neptune.kanazawa-it.ac.jp\" \n",
    "filename = \"ao_amy1.fasta\"\n",
    "if not os.path.isfile(filename):\n",
    "    # Downloading...\n",
    "    net_handle = Entrez.efetch(db=\"nucleotide\", id=\"2430\", rettype=\"fasta\", retmode=\"text\")\n",
    "    out_handle = open(filename, \"w\")\n",
    "    out_handle.write(net_handle.read())\n",
    "    out_handle.close()\n",
    "    net_handle.close()\n",
    "    print(\"Saved\")"
   ]
  },
  {
   "cell_type": "code",
   "execution_count": null,
   "id": "266c6b80",
   "metadata": {},
   "outputs": [],
   "source": []
  }
 ],
 "metadata": {
  "kernelspec": {
   "display_name": "Python 3 (ipykernel)",
   "language": "python",
   "name": "python3"
  },
  "language_info": {
   "codemirror_mode": {
    "name": "ipython",
    "version": 3
   },
   "file_extension": ".py",
   "mimetype": "text/x-python",
   "name": "python",
   "nbconvert_exporter": "python",
   "pygments_lexer": "ipython3",
   "version": "3.9.12"
  }
 },
 "nbformat": 4,
 "nbformat_minor": 5
}
