{
 "cells": [
  {
   "cell_type": "code",
   "execution_count": 1,
   "id": "1be126ac",
   "metadata": {},
   "outputs": [],
   "source": [
    "import re"
   ]
  },
  {
   "cell_type": "code",
   "execution_count": 2,
   "id": "f3b41bab",
   "metadata": {},
   "outputs": [
    {
     "name": "stdout",
     "output_type": "stream",
     "text": [
      "<re.Match object; span=(0, 3), match='Hel'>\n"
     ]
    }
   ],
   "source": [
    "match_result = re.match('Hel', 'Hellow World!')\n",
    "print(match_result) "
   ]
  },
  {
   "cell_type": "code",
   "execution_count": 3,
   "id": "8a4836f7",
   "metadata": {},
   "outputs": [
    {
     "name": "stdout",
     "output_type": "stream",
     "text": [
      "<re.Match object; span=(0, 3), match='Hel'>\n"
     ]
    }
   ],
   "source": [
    "search_result = re.search('Hel', 'Hellow World!')\n",
    "print(match_result) "
   ]
  },
  {
   "cell_type": "code",
   "execution_count": 4,
   "id": "64f96fd4",
   "metadata": {},
   "outputs": [
    {
     "name": "stdout",
     "output_type": "stream",
     "text": [
      "None\n"
     ]
    }
   ],
   "source": [
    "match_result = re.match('Wor', 'Hellow World!')\n",
    "print(match_result) "
   ]
  },
  {
   "cell_type": "code",
   "execution_count": 5,
   "id": "bf137c81",
   "metadata": {},
   "outputs": [
    {
     "name": "stdout",
     "output_type": "stream",
     "text": [
      "<re.Match object; span=(7, 10), match='Wor'>\n"
     ]
    }
   ],
   "source": [
    "search_result = re.search('Wor', 'Hellow World!')\n",
    "print(search_result) "
   ]
  },
  {
   "cell_type": "code",
   "execution_count": 6,
   "id": "5710b1dd",
   "metadata": {},
   "outputs": [
    {
     "name": "stdout",
     "output_type": "stream",
     "text": [
      "<re.Match object; span=(0, 3), match='hel'>\n",
      "(0, 3)\n",
      "hel\n"
     ]
    }
   ],
   "source": [
    "import re\n",
    "content = r'hellow python, 123, end.' \n",
    "pattern = 'hel'\n",
    "result = re.match(pattern, content)\n",
    "if result:\n",
    "  print(result) \n",
    "  print(result.span()) \n",
    "  print(result.group()) "
   ]
  },
  {
   "cell_type": "code",
   "execution_count": 7,
   "id": "b9f6bea1",
   "metadata": {},
   "outputs": [
    {
     "name": "stdout",
     "output_type": "stream",
     "text": [
      "hel\n"
     ]
    }
   ],
   "source": [
    "import re\n",
    "content = r'hellow python, 123, end.' \n",
    "pattern = 'hel'\n",
    "repatter = re.compile(pattern)\n",
    "result = repatter.match(content)\n",
    "print(result.group())"
   ]
  },
  {
   "cell_type": "code",
   "execution_count": 8,
   "id": "68241db0",
   "metadata": {},
   "outputs": [
    {
     "name": "stdout",
     "output_type": "stream",
     "text": [
      "hellow python, 123,end\n",
      "123\n"
     ]
    }
   ],
   "source": [
    "import re\n",
    "content = r'hellow python, 123,end' \n",
    "pattern = '.*?(\\d+).*'\n",
    "result = re.match(pattern, content)\n",
    "if result: \n",
    "  print(result.group())  \n",
    "  print(result.group(1))"
   ]
  },
  {
   "cell_type": "code",
   "execution_count": 9,
   "id": "ed7fcd12",
   "metadata": {},
   "outputs": [
    {
     "name": "stdout",
     "output_type": "stream",
     "text": [
      "3\n",
      "123\n"
     ]
    }
   ],
   "source": [
    "import re\n",
    "content = r'hellow python, 123,end'\n",
    "pattern1 = '.*(\\d+)'\n",
    "pattern2 = '.*?(\\d+)'\n",
    "result1 = re.match(pattern1, content)\n",
    "result2 = re.match(pattern2, content)\n",
    "if result1:\n",
    "  print(result1.group(1))\n",
    "if result2:\n",
    "  print(result2.group(1))"
   ]
  },
  {
   "cell_type": "code",
   "execution_count": 10,
   "id": "a0fbffdf",
   "metadata": {},
   "outputs": [
    {
     "name": "stdout",
     "output_type": "stream",
     "text": [
      "result1:none\n",
      "result2: hellow python,\n",
      "          enter,123\n"
     ]
    }
   ],
   "source": [
    "import re\n",
    "content = r'''hellow python,\n",
    "          enter,123\n",
    "          end'''\n",
    "pattern = '.*?\\d+'\n",
    "result1 = re.match(pattern, content)\n",
    "result2 = re.match(pattern, content, re.S)\n",
    "if result1:\n",
    "  print('result1:', result1.group())\n",
    "else:\n",
    "  print('result1:none')\n",
    "if result2:\n",
    "  print('result2:', result2.group())\n",
    "else:\n",
    "  print('result2:none')"
   ]
  },
  {
   "cell_type": "code",
   "execution_count": 11,
   "id": "c56cedb7",
   "metadata": {},
   "outputs": [
    {
     "name": "stdout",
     "output_type": "stream",
     "text": [
      "match_result:none\n",
      "search_result: python\n"
     ]
    }
   ],
   "source": [
    "import re\n",
    "content = r'hellow python'\n",
    "pattern = 'python'\n",
    "match_result = re.match(pattern, content)\n",
    "search_result = re.search(pattern, content)\n",
    "if match_result:\n",
    "  print('match_result:', match_result.group())\n",
    "else:\n",
    "  print('match_result:none')\n",
    "if search_result:\n",
    "  print('search_result:', search_result.group())\n",
    "else:\n",
    "  print('search_result:none')"
   ]
  },
  {
   "cell_type": "code",
   "execution_count": 12,
   "id": "321c3e48",
   "metadata": {},
   "outputs": [
    {
     "name": "stdout",
     "output_type": "stream",
     "text": [
      "<class 'list'>\n",
      "Yui again\n",
      "西野カナ Darling\n",
      "西野カナ 手をつなぐ理由\n"
     ]
    }
   ],
   "source": [
    "import re\n",
    "html = '''<div id=\"songs-list\">\n",
    "    <h2 class=\"title\">songs</h2>\n",
    "    <p class=\"introduction\">\n",
    "        classic songs\n",
    "    </p>\n",
    "    <ul id=\"list\" class=\"list-group\">\n",
    "        <li data-view=\"1\" class=\"active\">\n",
    "            <a href=\"/again.mp3\" singer=\"Yui\">again</a>\n",
    "        </li>\n",
    "        <li data-view=\"2\"><a href=\"/Darling.mp3\" singer=\"西野カナ\">Darling</a></li>\n",
    "        <li data-view=\"3\"><a href=\"/手をつなぐ理由.mp3\" singer=\"西野カナ\">手をつなぐ理由</a></li>\n",
    "    </ul>\n",
    "</div>'''\n",
    "pattern = '<li.*?singer=\"(.*?)\">(.*?)</a>'\n",
    "results = re.findall(pattern, html, re.S)\n",
    "print(type(results))\n",
    "for result in results:\n",
    "    print(result[0], result[1])"
   ]
  },
  {
   "cell_type": "code",
   "execution_count": 13,
   "id": "a353e197",
   "metadata": {},
   "outputs": [
    {
     "name": "stdout",
     "output_type": "stream",
     "text": [
      "again\n",
      "Darling\n",
      "手をつなぐ理由\n"
     ]
    }
   ],
   "source": [
    "import re\n",
    "html = '''<div id=\"songs-list\">\n",
    "    <h2 class=\"title\">songs</h2>\n",
    "    <p class=\"introduction\">\n",
    "        classic songs\n",
    "    </p>\n",
    "    <ul id=\"list\" class=\"list-group\">\n",
    "        <li data-view=\"4\" class=\"active\">\n",
    "            <a href=\"/again.mp3\" singer=\"Yui\">again</a>\n",
    "        </li>\n",
    "        <li data-view=\"6\"><a href=\"/Darling.mp3\" singer=\"西野カナ\">Darling</a></li>\n",
    "        <li data-view=\"5\"><a href=\"/手をつなぐ理由.mp3\" singer=\"西野カナ\">手をつなぐ理由</a></li>\n",
    "    </ul>\n",
    "</div>'''\n",
    "html = re.sub('<a.*?>|</a>', '', html)\n",
    "pattern = '<li.*?>(.*?)</li>'\n",
    "results = re.findall(pattern, html, re.S)\n",
    "for result in results:\n",
    "    print(result.strip())"
   ]
  },
  {
   "cell_type": "code",
   "execution_count": null,
   "id": "138f985b",
   "metadata": {},
   "outputs": [],
   "source": []
  },
  {
   "cell_type": "code",
   "execution_count": null,
   "id": "a07da660",
   "metadata": {},
   "outputs": [],
   "source": []
  },
  {
   "cell_type": "code",
   "execution_count": null,
   "id": "ab804dc5",
   "metadata": {},
   "outputs": [],
   "source": []
  }
 ],
 "metadata": {
  "kernelspec": {
   "display_name": "Python 3 (ipykernel)",
   "language": "python",
   "name": "python3"
  },
  "language_info": {
   "codemirror_mode": {
    "name": "ipython",
    "version": 3
   },
   "file_extension": ".py",
   "mimetype": "text/x-python",
   "name": "python",
   "nbconvert_exporter": "python",
   "pygments_lexer": "ipython3",
   "version": "3.9.12"
  }
 },
 "nbformat": 4,
 "nbformat_minor": 5
}
