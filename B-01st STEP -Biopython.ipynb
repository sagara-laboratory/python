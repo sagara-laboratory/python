{
 "cells": [
  {
   "cell_type": "code",
   "execution_count": 11,
   "metadata": {},
   "outputs": [
    {
     "name": "stdout",
     "output_type": "stream",
     "text": [
      "{'DbList': ['pubmed', 'protein', 'nuccore', 'ipg', 'nucleotide', 'structure', 'genome', 'annotinfo', 'assembly', 'bioproject', 'biosample', 'blastdbinfo', 'books', 'cdd', 'clinvar', 'gap', 'gapplus', 'grasp', 'dbvar', 'gene', 'gds', 'geoprofiles', 'homologene', 'medgen', 'mesh', 'ncbisearch', 'nlmcatalog', 'omim', 'orgtrack', 'pmc', 'popset', 'proteinclusters', 'pcassay', 'protfam', 'pccompound', 'pcsubstance', 'seqannot', 'snp', 'sra', 'taxonomy', 'biocollections', 'gtr']}\n"
     ]
    }
   ],
   "source": [
    "from Bio import Entrez\n",
    "Entrez.email = \"jun@neptune.kanazawa-it.ac.jp\" \n",
    "handle = Entrez.einfo()\n",
    "record = Entrez.read(handle)\n",
    "handle.close()\n",
    "print(record)"
   ]
  },
  {
   "cell_type": "code",
   "execution_count": 12,
   "metadata": {},
   "outputs": [
    {
     "name": "stdout",
     "output_type": "stream",
     "text": [
      "dict_keys(['DbName', 'MenuName', 'Description', 'DbBuild', 'Count', 'LastUpdate', 'FieldList', 'LinkList'])\n"
     ]
    }
   ],
   "source": [
    "from Bio import Entrez\n",
    "Entrez.email = \"jun@neptune.kanazawa-it.ac.jp\" \n",
    "handle = Entrez.einfo(db='pubmed')\n",
    "record = Entrez.read(handle)\n",
    "handle.close()\n",
    "print(record[\"DbInfo\"].keys())"
   ]
  },
  {
   "cell_type": "code",
   "execution_count": 13,
   "metadata": {},
   "outputs": [
    {
     "name": "stdout",
     "output_type": "stream",
     "text": [
      "dict_keys(['DbName', 'MenuName', 'Description', 'DbBuild', 'Count', 'LastUpdate', 'FieldList', 'LinkList'])\n"
     ]
    }
   ],
   "source": [
    "from Bio import Entrez\n",
    "Entrez.email = \"jun@neptune.kanazawa-it.ac.jp\" \n",
    "handle = Entrez.einfo(db='gene')\n",
    "record = Entrez.read(handle)\n",
    "handle.close()\n",
    "print(record[\"DbInfo\"].keys())"
   ]
  },
  {
   "cell_type": "code",
   "execution_count": 14,
   "metadata": {},
   "outputs": [
    {
     "name": "stdout",
     "output_type": "stream",
     "text": [
      "\n",
      "1. Bioinformatics. 2009 Jun 1;25(11):1422-3. doi: 10.1093/bioinformatics/btp163.\n",
      "Epub 2009 Mar 20.\n",
      "\n",
      "Biopython: freely available Python tools for computational molecular biology and \n",
      "bioinformatics.\n",
      "\n",
      "Cock PJ(1), Antao T, Chang JT, Chapman BA, Cox CJ, Dalke A, Friedberg I,\n",
      "Hamelryck T, Kauff F, Wilczynski B, de Hoon MJ.\n",
      "\n",
      "Author information: \n",
      "(1)Plant Pathology, SCRI, Invergowrie, Dundee, UK. peter.cock@scri.ac.uk\n",
      "\n",
      "SUMMARY: The Biopython project is a mature open source international\n",
      "collaboration of volunteer developers, providing Python libraries for a wide\n",
      "range of bioinformatics problems. Biopython includes modules for reading and\n",
      "writing different sequence file formats and multiple sequence alignments, dealing\n",
      "with 3D macro molecular structures, interacting with common tools such as BLAST, \n",
      "ClustalW and EMBOSS, accessing key online databases, as well as providing\n",
      "numerical methods for statistical learning.\n",
      "AVAILABILITY: Biopython is freely available, with documentation and source code\n",
      "at (www.biopython.org) under the Biopython license.\n",
      "\n",
      "DOI: 10.1093/bioinformatics/btp163 \n",
      "PMCID: PMC2682512\n",
      "PMID: 19304878  [Indexed for MEDLINE]\n",
      "\n",
      "\n"
     ]
    }
   ],
   "source": [
    "from Bio import Entrez\n",
    "Entrez.email = \"jun@neptune.kanazawa-it.ac.jp\" \n",
    "handle = Entrez.efetch(db='pubmed', id=\"19304878\", rettype='abstract', retmode='text')\n",
    "record = handle.read()\n",
    "handle.close()\n",
    "print(record)"
   ]
  },
  {
   "cell_type": "code",
   "execution_count": 15,
   "metadata": {},
   "outputs": [
    {
     "name": "stdout",
     "output_type": "stream",
     "text": [
      "ID: NC_045512.2\n",
      "Name: NC_045512\n",
      "Description: Severe acute respiratory syndrome coronavirus 2 isolate Wuhan-Hu-1, complete genome\n",
      "Database cross-references: BioProject:PRJNA485481\n",
      "Number of features: 57\n",
      "/molecule_type=ss-RNA\n",
      "/topology=linear\n",
      "/data_file_division=VRL\n",
      "/date=18-JUL-2020\n",
      "/accessions=['NC_045512']\n",
      "/sequence_version=2\n",
      "/keywords=['RefSeq']\n",
      "/source=Severe acute respiratory syndrome coronavirus 2 (SARS-CoV-2)\n",
      "/organism=Severe acute respiratory syndrome coronavirus 2\n",
      "/taxonomy=['Viruses', 'Riboviria', 'Orthornavirae', 'Pisuviricota', 'Pisoniviricetes', 'Nidovirales', 'Cornidovirineae', 'Coronaviridae', 'Orthocoronavirinae', 'Betacoronavirus', 'Sarbecovirus']\n",
      "/references=[Reference(title='A new coronavirus associated with human respiratory disease in China', ...), Reference(title='Programmed ribosomal frameshifting in decoding the SARS-CoV genome', ...), Reference(title='The structure of a rigorously conserved RNA element within the SARS virus genome', ...), Reference(title=\"A phylogenetically conserved hairpin-type 3' untranslated region pseudoknot functions in coronavirus RNA replication\", ...), Reference(title='Direct Submission', ...), Reference(title='Direct Submission', ...)]\n",
      "/comment=REVIEWED REFSEQ: This record has been curated by NCBI staff. The\n",
      "reference sequence is identical to MN908947.\n",
      "On Jan 17, 2020 this sequence version replaced NC_045512.1.\n",
      "Annotation was added using homology to SARSr-CoV NC_004718.3. ###\n",
      "Formerly called 'Wuhan seafood market pneumonia virus.' If you have\n",
      "questions or suggestions, please email us at info@ncbi.nlm.nih.gov\n",
      "and include the accession number NC_045512.### Protein structures\n",
      "can be found at\n",
      "https://www.ncbi.nlm.nih.gov/structure/?term=sars-cov-2.### Find\n",
      "all other Severe acute respiratory syndrome coronavirus 2\n",
      "(SARS-CoV-2) sequences at\n",
      "https://www.ncbi.nlm.nih.gov/genbank/sars-cov-2-seqs/\n",
      "COMPLETENESS: full length.\n",
      "/structured_comment=OrderedDict([('Assembly-Data', OrderedDict([('Assembly Method', 'Megahit v. V1.1.3'), ('Sequencing Technology', 'Illumina')]))])\n",
      "Seq('ATTAAAGGTTTATACCTTCCCAGGTAACAAACCAACCAACTTTCGATCTCTTGT...AAA')\n"
     ]
    }
   ],
   "source": [
    "from Bio import Entrez, SeqIO\n",
    "Entrez.email = \"jun@neptune.kanazawa-it.ac.jp\" \n",
    "handle = Entrez.efetch(db='nuccore', id='NC_045512.2', rettype='gb', retmode='text')\n",
    "record = SeqIO.read(handle, \"genbank\")\n",
    "handle.close()\n",
    "print(record)"
   ]
  },
  {
   "cell_type": "code",
   "execution_count": 16,
   "metadata": {},
   "outputs": [
    {
     "name": "stdout",
     "output_type": "stream",
     "text": [
      "Severe acute respiratory syndrome coronavirus 2\n"
     ]
    }
   ],
   "source": [
    "organ = record.annotations['organism']\n",
    "print(organ)"
   ]
  },
  {
   "cell_type": "code",
   "execution_count": 17,
   "metadata": {},
   "outputs": [
    {
     "name": "stdout",
     "output_type": "stream",
     "text": [
      "type: source\n",
      "location: [0:29903](+)\n",
      "qualifiers:\n",
      "    Key: collection_date, Value: ['Dec-2019']\n",
      "    Key: country, Value: ['China']\n",
      "    Key: db_xref, Value: ['taxon:2697049']\n",
      "    Key: host, Value: ['Homo sapiens']\n",
      "    Key: isolate, Value: ['Wuhan-Hu-1']\n",
      "    Key: mol_type, Value: ['genomic RNA']\n",
      "    Key: organism, Value: ['Severe acute respiratory syndrome coronavirus 2']\n",
      "\n"
     ]
    }
   ],
   "source": [
    "feature = record.features\n",
    "print(feature[0])"
   ]
  },
  {
   "cell_type": "code",
   "execution_count": 18,
   "metadata": {},
   "outputs": [
    {
     "name": "stdout",
     "output_type": "stream",
     "text": [
      "No information\n"
     ]
    }
   ],
   "source": [
    "for feature in record.features:\n",
    "    if feature.type == 'source':\n",
    "        if 'PCR_primers' in feature.qualifiers:\n",
    "                primer_list = feature.qualifiers['PCR_primers']\n",
    "                \n",
    "                # 文字列に変換\n",
    "                primer_str = str(primer_list[0])\n",
    "                \n",
    "                # カンマで区切る\n",
    "                primer_split_list = primer_str.split(',')\n",
    "                \n",
    "                # 各プライマー情報\n",
    "                FPrimer_name = primer_split_list[0].split(': ')[1]\n",
    "                FPrimer_seq = primer_split_list[1].split(': ')[1]\n",
    "                RPrimer_name = primer_split_list[2].split(': ')[1]\n",
    "                RPrimer_seq = primer_split_list[3].split(': ')[1]\n",
    "                \n",
    "                # 出力\n",
    "                print(FPrimer_name)\n",
    "                print(FPrimer_seq)\n",
    "                print(RPrimer_name)\n",
    "                print(RPrimer_seq)\n",
    "        else:\n",
    "                primer_list = 'No information'\n",
    "                print(primer_list)"
   ]
  },
  {
   "cell_type": "code",
   "execution_count": 24,
   "metadata": {},
   "outputs": [
    {
     "name": "stdout",
     "output_type": "stream",
     "text": [
      "ID: LC600705.1\n",
      "Name: LC600705\n",
      "Description: Hemitrygon akajei CBM:ZF:20845 mitochondrial gene for 12S rRNA, partial sequence\n",
      "Number of features: 2\n",
      "/molecule_type=DNA\n",
      "/topology=linear\n",
      "/data_file_division=VRT\n",
      "/date=13-JAN-2021\n",
      "/accessions=['LC600705']\n",
      "/sequence_version=1\n",
      "/keywords=['']\n",
      "/source=mitochondrion Hemitrygon akajei (red stingray)\n",
      "/organism=Hemitrygon akajei\n",
      "/taxonomy=['Eukaryota', 'Metazoa', 'Chordata', 'Craniata', 'Vertebrata', 'Chondrichthyes', 'Elasmobranchii', 'Batoidea', 'Myliobatiformes', 'Dasyatidae', 'Hemitrygon']\n",
      "/references=[Reference(title='Reference data for MiFish metabarcoding analysis', ...), Reference(title='Direct Submission', ...)]\n",
      "Seq('ATTCCGGTGAGAACGCCCTAATCAGCCTACACATCTAATTAGGAGCTGGTATCA...CTC')\n"
     ]
    }
   ],
   "source": [
    "from Bio import Entrez, SeqIO\n",
    "Entrez.email = \"jun@neptune.kanazawa-it.ac.jp\" \n",
    "handle = Entrez.efetch(db='nuccore', id='LC600705', rettype='gb', retmode='text')\n",
    "record = SeqIO.read(handle, \"genbank\")\n",
    "handle.close()\n",
    "print(record)"
   ]
  },
  {
   "cell_type": "code",
   "execution_count": 25,
   "metadata": {},
   "outputs": [
    {
     "name": "stdout",
     "output_type": "stream",
     "text": [
      "L-708-12S\n",
      "ttayacatgcaagtatccgc\n",
      "H-1903-16S\n",
      "gtagctcgtytagtttcggg\n"
     ]
    }
   ],
   "source": [
    "for feature in record.features:\n",
    "    if feature.type == 'source':\n",
    "        if 'PCR_primers' in feature.qualifiers:\n",
    "                primer_list = feature.qualifiers['PCR_primers']\n",
    "                \n",
    "                # 文字列に変換\n",
    "                primer_str = str(primer_list[0])\n",
    "                \n",
    "                # カンマで区切る\n",
    "                primer_split_list = primer_str.split(',')\n",
    "                \n",
    "                # 各プライマー情報\n",
    "                FPrimer_name = primer_split_list[0].split(': ')[1]\n",
    "                FPrimer_seq = primer_split_list[1].split(': ')[1]\n",
    "                RPrimer_name = primer_split_list[2].split(': ')[1]\n",
    "                RPrimer_seq = primer_split_list[3].split(': ')[1]\n",
    "                \n",
    "                # 出力\n",
    "                print(FPrimer_name)\n",
    "                print(FPrimer_seq)\n",
    "                print(RPrimer_name)\n",
    "                print(RPrimer_seq)\n",
    "        else:\n",
    "                primer_list = 'No information'\n",
    "                print(primer_list)"
   ]
  },
  {
   "cell_type": "code",
   "execution_count": null,
   "metadata": {},
   "outputs": [],
   "source": []
  }
 ],
 "metadata": {
  "kernelspec": {
   "display_name": "Python 3 (ipykernel)",
   "language": "python",
   "name": "python3"
  },
  "language_info": {
   "codemirror_mode": {
    "name": "ipython",
    "version": 3
   },
   "file_extension": ".py",
   "mimetype": "text/x-python",
   "name": "python",
   "nbconvert_exporter": "python",
   "pygments_lexer": "ipython3",
   "version": "3.9.12"
  }
 },
 "nbformat": 4,
 "nbformat_minor": 4
}
